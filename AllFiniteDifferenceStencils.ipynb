{
 "cells": [
  {
   "cell_type": "code",
   "execution_count": 1,
   "metadata": {},
   "outputs": [],
   "source": [
    "import sympy as sy\n",
    "import FiniteDifference as fd"
   ]
  },
  {
   "cell_type": "markdown",
   "metadata": {},
   "source": [
    "# $\\frac{\\partial f}{\\partial x}$"
   ]
  },
  {
   "cell_type": "code",
   "execution_count": 4,
   "metadata": {},
   "outputs": [
    {
     "data": {
      "text/latex": [
       "$\\displaystyle \\left[\\begin{matrix}0 & 0 & 0\\\\- \\frac{1}{2} & 0 & \\frac{1}{2}\\\\0 & 0 & 0\\end{matrix}\\right]$"
      ],
      "text/plain": [
       "Matrix([\n",
       "[   0, 0,   0],\n",
       "[-1/2, 0, 1/2],\n",
       "[   0, 0,   0]])"
      ]
     },
     "execution_count": 4,
     "metadata": {},
     "output_type": "execute_result"
    }
   ],
   "source": [
    "template = sy.Matrix([[0, 0, 0],\n",
    "                      [1, -1, 1],\n",
    "                      [0, 0, 0]])\n",
    "diff = (1, 0)\n",
    "order = 2\n",
    "stencil, _ = fd.genFDStencil(template, diff, order, boundary_diff=None)\n",
    "stencil"
   ]
  },
  {
   "cell_type": "markdown",
   "metadata": {},
   "source": [
    "# $\\frac{\\partial f}{\\partial y}$"
   ]
  },
  {
   "cell_type": "code",
   "execution_count": 8,
   "metadata": {},
   "outputs": [
    {
     "data": {
      "text/latex": [
       "$\\displaystyle \\left[\\begin{matrix}0 & \\frac{1}{2} & 0\\\\0 & 0 & 0\\\\0 & - \\frac{1}{2} & 0\\end{matrix}\\right]$"
      ],
      "text/plain": [
       "Matrix([\n",
       "[0,  1/2, 0],\n",
       "[0,    0, 0],\n",
       "[0, -1/2, 0]])"
      ]
     },
     "execution_count": 8,
     "metadata": {},
     "output_type": "execute_result"
    }
   ],
   "source": [
    "template = sy.Matrix([[0, 1, 0],\n",
    "                      [0, -1, 0],\n",
    "                      [0, 1, 0]])\n",
    "diff = (0, 1)\n",
    "order = 2\n",
    "stencil, _ = fd.genFDStencil(template, diff, order, boundary_diff=None)\n",
    "stencil"
   ]
  },
  {
   "cell_type": "markdown",
   "metadata": {},
   "source": [
    "# $\\frac{\\partial^2 f}{\\partial x^2}$"
   ]
  },
  {
   "cell_type": "code",
   "execution_count": 37,
   "metadata": {},
   "outputs": [
    {
     "name": "stdout",
     "output_type": "stream",
     "text": [
      "⎡ 0    0   0  ⎤\n",
      "⎢             ⎥\n",
      "⎢-7/2  4  -1/2⎥\n",
      "⎢             ⎥\n",
      "⎣ 0    0   0  ⎦\n",
      "-3\n"
     ]
    }
   ],
   "source": [
    "template = sy.Matrix([[0, 0, 0],\n",
    "                      [-1, 1, 1],\n",
    "                      [0, 0, 0]])\n",
    "diff = (2, 0)\n",
    "order = 2\n",
    "boundary_diff = (1, 0)\n",
    "stencil, boundary_val = fd.genFDStencil(template, diff, order, boundary_diff)\n",
    "sy.pprint(stencil)\n",
    "sy.pprint(boundary_val)"
   ]
  },
  {
   "cell_type": "markdown",
   "metadata": {},
   "source": [
    "# $\\frac{\\partial^3 f}{\\partial x^3}$"
   ]
  },
  {
   "cell_type": "code",
   "execution_count": 10,
   "metadata": {},
   "outputs": [
    {
     "data": {
      "text/latex": [
       "$\\displaystyle \\left[\\begin{matrix}0 & 0 & 0 & 0 & 0\\\\0 & 0 & 0 & 0 & 0\\\\- \\frac{1}{2} & 1 & 0 & -1 & \\frac{1}{2}\\\\0 & 0 & 0 & 0 & 0\\\\0 & 0 & 0 & 0 & 0\\end{matrix}\\right]$"
      ],
      "text/plain": [
       "Matrix([\n",
       "[   0, 0, 0,  0,   0],\n",
       "[   0, 0, 0,  0,   0],\n",
       "[-1/2, 1, 0, -1, 1/2],\n",
       "[   0, 0, 0,  0,   0],\n",
       "[   0, 0, 0,  0,   0]])"
      ]
     },
     "execution_count": 10,
     "metadata": {},
     "output_type": "execute_result"
    }
   ],
   "source": [
    "template = sy.Matrix([[0, 0, 0, 0, 0],\n",
    "                      [0, 0, 0, 0, 0],\n",
    "                      [1, 1, -1, 1, 1],\n",
    "                      [0, 0, 0, 0, 0],\n",
    "                      [0, 0, 0, 0, 0]])\n",
    "diff = (3, 0)\n",
    "order = 2\n",
    "stencil, _ = fd.genFDStencil(template, diff, order)\n",
    "stencil"
   ]
  },
  {
   "cell_type": "code",
   "execution_count": 13,
   "metadata": {},
   "outputs": [
    {
     "name": "stdout",
     "output_type": "stream",
     "text": [
      "⎡ 0    0  0   0   0  ⎤\n",
      "⎢                    ⎥\n",
      "⎢ 0    0  0   0   0  ⎥\n",
      "⎢                    ⎥\n",
      "⎢-3/2  5  -6  3  -1/2⎥\n",
      "⎢                    ⎥\n",
      "⎢ 0    0  0   0   0  ⎥\n",
      "⎢                    ⎥\n",
      "⎣ 0    0  0   0   0  ⎦\n",
      "0\n"
     ]
    }
   ],
   "source": [
    "template = sy.Matrix([[0, 0, 0, 0, 0],\n",
    "                      [0, 0, 0, 0, 0],\n",
    "                      [1, -1, 1, 1, 1],\n",
    "                      [0, 0, 0, 0, 0],\n",
    "                      [0, 0, 0, 0, 0]])\n",
    "diff = (3, 0)\n",
    "order = 2\n",
    "stencil, boundary_val = fd.genFDStencil(template, diff, order)\n",
    "sy.pprint(stencil)\n",
    "sy.pprint(boundary_val)"
   ]
  },
  {
   "cell_type": "code",
   "execution_count": 18,
   "metadata": {},
   "outputs": [
    {
     "name": "stdout",
     "output_type": "stream",
     "text": [
      "⎡0    0   0  0   0⎤\n",
      "⎢                 ⎥\n",
      "⎢0    0   0  0   0⎥\n",
      "⎢                 ⎥\n",
      "⎢10  -15  6  -1  0⎥\n",
      "⎢                 ⎥\n",
      "⎢0    0   0  0   0⎥\n",
      "⎢                 ⎥\n",
      "⎣0    0   0  0   0⎦\n",
      "6\n"
     ]
    }
   ],
   "source": [
    "template = sy.Matrix([[0, 0, 0, 0, 0],\n",
    "                      [0, 0, 0, 0, 0],\n",
    "                      [-1, 1, 1, 1, 0],\n",
    "                      [0, 0, 0, 0, 0],\n",
    "                      [0, 0, 0, 0, 0]])\n",
    "diff = (3, 0)\n",
    "order = 2\n",
    "boundary_diff = (1, 0)\n",
    "stencil, boundary_val = fd.genFDStencil(template, diff, order, boundary_diff)\n",
    "sy.pprint(stencil)\n",
    "sy.pprint(boundary_val)"
   ]
  },
  {
   "cell_type": "code",
   "execution_count": 19,
   "metadata": {},
   "outputs": [
    {
     "name": "stdout",
     "output_type": "stream",
     "text": [
      "⎡0  0  0   0    0 ⎤\n",
      "⎢                 ⎥\n",
      "⎢0  0  0   0    0 ⎥\n",
      "⎢                 ⎥\n",
      "⎢0  1  -6  15  -10⎥\n",
      "⎢                 ⎥\n",
      "⎢0  0  0   0    0 ⎥\n",
      "⎢                 ⎥\n",
      "⎣0  0  0   0    0 ⎦\n",
      "6\n"
     ]
    }
   ],
   "source": [
    "template = sy.Matrix([[0, 0, 0, 0, 0],\n",
    "                      [0, 0, 0, 0, 0],\n",
    "                      [0, 1, 1, 1, -1],\n",
    "                      [0, 0, 0, 0, 0],\n",
    "                      [0, 0, 0, 0, 0]])\n",
    "diff = (3, 0)\n",
    "order = 2\n",
    "boundary_diff = (1, 0)\n",
    "stencil, boundary_val = fd.genFDStencil(template, diff, order, boundary_diff)\n",
    "sy.pprint(stencil)\n",
    "sy.pprint(boundary_val)"
   ]
  },
  {
   "cell_type": "markdown",
   "metadata": {},
   "source": [
    "# $\\frac{\\partial^3 f}{\\partial x^2 \\partial y}$"
   ]
  },
  {
   "cell_type": "code",
   "execution_count": 24,
   "metadata": {},
   "outputs": [
    {
     "name": "stdout",
     "output_type": "stream",
     "text": [
      "⎡0   0    0    0    0⎤\n",
      "⎢                    ⎥\n",
      "⎢0  1/2   -1  1/2   0⎥\n",
      "⎢                    ⎥\n",
      "⎢0   0    0    0    0⎥\n",
      "⎢                    ⎥\n",
      "⎢0  -1/2  1   -1/2  0⎥\n",
      "⎢                    ⎥\n",
      "⎣0   0    0    0    0⎦\n",
      "0\n"
     ]
    }
   ],
   "source": [
    "template = sy.Matrix([[0, 0, 0, 0, 0],\n",
    "                      [0, 1, 1, 1, 0],\n",
    "                      [0, 1, -1, 1, 0],\n",
    "                      [0, 1, 1, 1, 0],\n",
    "                      [0, 0, 0, 0, 0]])\n",
    "diff = (2, 1)\n",
    "order = 2\n",
    "stencil, boundary_val = fd.genFDStencil(template, diff, order)\n",
    "sy.pprint(stencil)\n",
    "sy.pprint(boundary_val)"
   ]
  },
  {
   "cell_type": "code",
   "execution_count": 27,
   "metadata": {},
   "outputs": [
    {
     "name": "stdout",
     "output_type": "stream",
     "text": [
      "⎡0  0    0    0    0  ⎤\n",
      "⎢                     ⎥\n",
      "⎢0  1   -5/2  2   -1/2⎥\n",
      "⎢                     ⎥\n",
      "⎢0  0    0    0    0  ⎥\n",
      "⎢                     ⎥\n",
      "⎢0  -1  5/2   -2  1/2 ⎥\n",
      "⎢                     ⎥\n",
      "⎣0  0    0    0    0  ⎦\n",
      "0\n"
     ]
    }
   ],
   "source": [
    "template = sy.Matrix([[0, 0, 0, 0, 0],\n",
    "                      [0, 1, 1, 1, 1],\n",
    "                      [0, -1, 1, 1, 1],\n",
    "                      [0, 1, 1, 1, 1],\n",
    "                      [0, 0, 0, 0, 0]])\n",
    "diff = (2, 1)\n",
    "order = 2\n",
    "boundary_diff = (1, 0)\n",
    "stencil, boundary_val = fd.genFDStencil(template, diff, order)\n",
    "sy.pprint(stencil)\n",
    "sy.pprint(boundary_val)"
   ]
  },
  {
   "cell_type": "code",
   "execution_count": 32,
   "metadata": {},
   "outputs": [
    {
     "name": "stdout",
     "output_type": "stream",
     "text": [
      "⎡0  0   -3/2  3   -3/2⎤\n",
      "⎢                     ⎥\n",
      "⎢0  2    -2   -2   2  ⎥\n",
      "⎢                     ⎥\n",
      "⎢0  -2  7/2   -1  -1/2⎥\n",
      "⎢                     ⎥\n",
      "⎢0  0    0    0    0  ⎥\n",
      "⎢                     ⎥\n",
      "⎣0  0    0    0    0  ⎦\n",
      "0\n"
     ]
    }
   ],
   "source": [
    "template = sy.Matrix([[0, 1, 1, 1, 1],\n",
    "                      [0, 1, 1, 1, 1],\n",
    "                      [0, 1, 1, 1, 1],\n",
    "                      [0, -1, 0, 0, 0],\n",
    "                      [0, 0, 0, 0, 0]])\n",
    "diff = (2, 1)\n",
    "order = 2\n",
    "stencil, boundary_val = fd.genFDStencil(template, diff, order)\n",
    "sy.pprint(stencil)\n",
    "sy.pprint(boundary_val)"
   ]
  },
  {
   "cell_type": "code",
   "execution_count": null,
   "metadata": {},
   "outputs": [],
   "source": []
  }
 ],
 "metadata": {
  "kernelspec": {
   "display_name": "Python 3",
   "language": "python",
   "name": "python3"
  },
  "language_info": {
   "codemirror_mode": {
    "name": "ipython",
    "version": 3
   },
   "file_extension": ".py",
   "mimetype": "text/x-python",
   "name": "python",
   "nbconvert_exporter": "python",
   "pygments_lexer": "ipython3",
   "version": "3.7.3"
  }
 },
 "nbformat": 4,
 "nbformat_minor": 4
}
