{
 "cells": [
  {
   "cell_type": "markdown",
   "metadata": {},
   "source": [
    "## Add path to source files"
   ]
  },
  {
   "cell_type": "code",
   "execution_count": 2,
   "metadata": {},
   "outputs": [],
   "source": [
    "import sys, os\n",
    "sys.path.insert(0, os.path.join(os.path.abspath('..'), 'src'))"
   ]
  },
  {
   "cell_type": "markdown",
   "metadata": {},
   "source": [
    "## Import necessary packages, add loading bars, make plots big"
   ]
  },
  {
   "cell_type": "code",
   "execution_count": 3,
   "metadata": {},
   "outputs": [],
   "source": [
    "import numpy as np\n",
    "import matplotlib as mpl\n",
    "import matplotlib.pyplot as plt\n",
    "from matplotlib.animation import FuncAnimation\n",
    "\n",
    "import FiniteDifference as fd\n",
    "import LiquidCrystalHelper as lch\n",
    "import biharm as bh\n",
    "\n",
    "import time\n",
    "from importlib import reload"
   ]
  },
  {
   "cell_type": "code",
   "execution_count": 4,
   "metadata": {},
   "outputs": [],
   "source": [
    "import ipywidgets as widgets\n",
    "from IPython.display import display\n",
    "from IPython.display import Video\n",
    "from IPython.display import Image"
   ]
  },
  {
   "cell_type": "code",
   "execution_count": 5,
   "metadata": {},
   "outputs": [
    {
     "data": {
      "text/plain": [
       "<module 'LiquidCrystalHelper' from 'C:\\\\Users\\\\lucas\\\\Documents\\\\Grad Work\\\\Summer Research 2020\\\\LiquidCrystalHydrodynamics\\\\src\\\\LiquidCrystalHelper.py'>"
      ]
     },
     "execution_count": 5,
     "metadata": {},
     "output_type": "execute_result"
    }
   ],
   "source": [
    "reload(lch)"
   ]
  },
  {
   "cell_type": "code",
   "execution_count": 6,
   "metadata": {},
   "outputs": [],
   "source": [
    "%matplotlib qt\n",
    "dpi = 300\n",
    "mpl.rcParams['figure.dpi'] = dpi"
   ]
  },
  {
   "cell_type": "markdown",
   "metadata": {},
   "source": [
    "## Begin with a $257\\times 257$ grid, with one $+1/2$ disclination and one $-1/2$ disclination\n",
    "* The reason for this odd choice of size is that the FFT works best on an array of size $N = 2^i - 1$ (and the same for the other dimension).\n",
    "* In this algorithm, the thing that is being Fourier Transformed is the interior points of our domain. This will be $255\\times 255$ since the endpoints in either dimension are cutoff.\n",
    "* Clearly this is $(2^i - 1)\\times(2^i - 1)$ for $i = 8$. "
   ]
  },
  {
   "cell_type": "markdown",
   "metadata": {},
   "source": [
    "### Set up domain"
   ]
  },
  {
   "cell_type": "code",
   "execution_count": 27,
   "metadata": {},
   "outputs": [],
   "source": [
    "l = 140\n",
    "n = 257\n",
    "\n",
    "x = np.linspace(-l, l, num=n)\n",
    "y = np.linspace(-l, l, num=n)\n",
    "X, Y = np.meshgrid(x, y, indexing='ij')"
   ]
  },
  {
   "cell_type": "markdown",
   "metadata": {},
   "source": [
    "### Create two disclinations, get auxiliary variables"
   ]
  },
  {
   "cell_type": "code",
   "execution_count": 28,
   "metadata": {},
   "outputs": [],
   "source": [
    "S_val = 0.5\n",
    "ctr = [[-35, 0], [35, 0]]\n",
    "r = [1, 1]\n",
    "m = [-1/2, 1/2]\n",
    "\n",
    "S, phi = lch.makeMultiDisclination(X, Y, S_val, ctr, r, m)\n",
    "Q = lch.uniaxialQ(S, phi)\n",
    "eta, mu, nu = lch.auxVars(Q)"
   ]
  },
  {
   "cell_type": "markdown",
   "metadata": {},
   "source": [
    "### Get initial eigenvectors/eigenvalues, plot"
   ]
  },
  {
   "cell_type": "code",
   "execution_count": 31,
   "metadata": {},
   "outputs": [
    {
     "data": {
      "text/plain": [
       "Text(0, 0.5, '$y/\\\\xi$')"
      ]
     },
     "execution_count": 31,
     "metadata": {},
     "output_type": "execute_result"
    }
   ],
   "source": [
    "sparse_shape = (10, 10)\n",
    "S_sparse_shape = (200, 200)\n",
    "S_cutoff = 0.3\n",
    "\n",
    "lambda_max = lch.calcQEigenvals(eta, mu, nu)\n",
    "U, V = lch.calcQEigenvecs(eta, mu, nu, lambda_max, S_cutoff)\n",
    "\n",
    "sparse_idx = lch.sparseIdx(Q[0, 0].shape, sparse_shape)\n",
    "S_sparse_idx = lch.sparseIdx(Q[0, 0].shape, S_sparse_shape)\n",
    "\n",
    "fig, ax = plt.subplots(figsize=(4, 3))\n",
    "c = ax.pcolor(X[S_sparse_idx], Y[S_sparse_idx], (3/2)*lambda_max[S_sparse_idx], vmin=0, vmax=1.5)\n",
    "q = ax.quiver(X[sparse_idx], Y[sparse_idx], U[sparse_idx], V[sparse_idx],\n",
    "              headwidth=0, pivot='middle', headaxislength=5, scale=30, width=0.002)\n",
    "\n",
    "ax.axis('equal')\n",
    "fig.colorbar(c, ax=ax)\n",
    "ax.set_title(\"+1/2 (left) and -1/2 (right) defects\")\n",
    "ax.set_xlabel(r\"$x/\\xi$\")\n",
    "ax.set_ylabel(r\"$y/\\xi$\")"
   ]
  },
  {
   "cell_type": "markdown",
   "metadata": {},
   "source": [
    "### First, see how long it takes the configuration to relax"
   ]
  },
  {
   "cell_type": "code",
   "execution_count": 44,
   "metadata": {},
   "outputs": [
    {
     "data": {
      "application/vnd.jupyter.widget-view+json": {
       "model_id": "da8f6e52fd76470f8e083741e209991a",
       "version_major": 2,
       "version_minor": 0
      },
      "text/plain": [
       "IntProgress(value=0, max=49)"
      ]
     },
     "metadata": {},
     "output_type": "display_data"
    },
    {
     "name": "stdout",
     "output_type": "stream",
     "text": [
      "Simulation ran in 0.011166271666667171 minutes.\n"
     ]
    }
   ],
   "source": [
    "dx = X[1, 0] - X[0, 0]\n",
    "dy = Y[0, 1] - Y[0, 0]\n",
    "\n",
    "# This is just what they said it should be for stability\n",
    "dt = dx**2/16\n",
    "\n",
    "num_steps = 50\n",
    "num_peaks = 2\n",
    "peak_pos = np.zeros((num_peaks, num_steps))\n",
    "peak_val = np.zeros((num_peaks, num_steps))\n",
    "t = np.zeros(num_steps)\n",
    "\n",
    "eta_old = eta\n",
    "mu_old = mu\n",
    "nu_old = nu\n",
    "\n",
    "# Create loading bar\n",
    "progress = widgets.IntProgress(min=0, max=num_steps - 1)\n",
    "display(progress)\n",
    "\n",
    "start_time = time.perf_counter()\n",
    "for i in range(num_steps):\n",
    "    \n",
    "    eta_new = fd.forwardEuler(eta_old, dt, lch.etaEOM, mu_old, nu_old, dx, dy)\n",
    "    mu_new = fd.forwardEuler(mu_old, dt, lch.muEOM, eta_old, nu_old, dx, dy)\n",
    "    nu_new = fd.forwardEuler(nu_old, dt, lch.nuEOM, eta_old, mu_old, dx, dy)\n",
    "    \n",
    "    eta_old = eta_new\n",
    "    mu_old = mu_new\n",
    "    nu_old = nu_new\n",
    "    \n",
    "    lambda_max = lch.calcQEigenvals(eta_old, mu_old, nu_old)\n",
    "    peaks = lch.findMinima(lambda_max)\n",
    "    if len(peaks[0]) <= 2:\n",
    "        peak_pos[:, i] = X[peaks]\n",
    "        peak_val[:, i] = lambda_max[peaks]\n",
    "    else:\n",
    "        break\n",
    "        \n",
    "    t[i] = i*dt\n",
    "    \n",
    "    # Update loading bar\n",
    "    progress.value = i\n",
    "    \n",
    "# truncate arrays if loop stops early\n",
    "t = t[:i]\n",
    "peak_pos = peak_pos[:, :i]\n",
    "peak_val = peak_val[:, :i]\n",
    "\n",
    "eta_hydro = eta_new\n",
    "mu_hydro = mu_new\n",
    "nu_hydro = nu_new\n",
    "    \n",
    "end_time = time.perf_counter()\n",
    "print(\"Simulation ran in\", (end_time - start_time)/60, \"minutes.\")"
   ]
  },
  {
   "cell_type": "code",
   "execution_count": 45,
   "metadata": {},
   "outputs": [
    {
     "data": {
      "text/plain": [
       "Text(0, 0.5, '$\\\\lambda_\\\\mathrm{max}$')"
      ]
     },
     "execution_count": 45,
     "metadata": {},
     "output_type": "execute_result"
    }
   ],
   "source": [
    "plt.plot(t, peak_val[0, :])\n",
    "plt.title(r'$\\lambda_\\mathrm{max}$ vs. $t$ for $dt = $' + str(round(dt, 5)))\n",
    "plt.xlabel(r'$t/\\tau$')\n",
    "plt.ylabel(r'$\\lambda_\\mathrm{max}$')"
   ]
  },
  {
   "cell_type": "markdown",
   "metadata": {},
   "source": [
    "### Plot the configuration at this point"
   ]
  },
  {
   "cell_type": "code",
   "execution_count": 46,
   "metadata": {},
   "outputs": [
    {
     "data": {
      "text/plain": [
       "Text(0, 0.5, '$y/\\\\xi$')"
      ]
     },
     "execution_count": 46,
     "metadata": {},
     "output_type": "execute_result"
    }
   ],
   "source": [
    "sparse_shape = (20, 20)\n",
    "S_sparse_shape = (200, 200)\n",
    "S_cutoff = 0.3\n",
    "\n",
    "lambda_max = lch.calcQEigenvals(eta_old, mu_old, nu_old)\n",
    "U, V = lch.calcQEigenvecs(eta_old, mu_old, nu_old, lambda_max, S_cutoff)\n",
    "\n",
    "sparse_idx = lch.sparseIdx(Q[0, 0].shape, sparse_shape)\n",
    "S_sparse_idx = lch.sparseIdx(Q[0, 0].shape, S_sparse_shape)\n",
    "\n",
    "fig, ax = plt.subplots(figsize=(5, 3))\n",
    "c = ax.pcolor(X[S_sparse_idx], Y[S_sparse_idx], (3/2)*lambda_max[S_sparse_idx], vmin=0, vmax=1.5)\n",
    "q = ax.quiver(X[sparse_idx], Y[sparse_idx], U[sparse_idx], V[sparse_idx],\n",
    "              headwidth=0, pivot='middle', headaxislength=5, scale=30, width=0.002)\n",
    "\n",
    "ax.axis('equal')\n",
    "fig.colorbar(c, ax=ax)\n",
    "ax.set_title(\"+1/2 (left) and -1/2 (right) defects\")\n",
    "ax.set_xlabel(r\"$x/\\xi$\")\n",
    "ax.set_ylabel(r\"$y/\\xi$\")"
   ]
  },
  {
   "cell_type": "markdown",
   "metadata": {},
   "source": [
    "### Set up biharmonic solver"
   ]
  },
  {
   "cell_type": "code",
   "execution_count": 47,
   "metadata": {},
   "outputs": [],
   "source": [
    "L = [2*l, 2*l]\n",
    "shape = [n - 1, n - 1]\n",
    "alpha = lch.alpha\n",
    "maxiter = 500\n",
    "\n",
    "bh_solver = bh.Biharm(L, shape, alpha, cg_maxiter=maxiter)"
   ]
  },
  {
   "cell_type": "markdown",
   "metadata": {},
   "source": [
    "### Now add in the hydrodynamic effects and run for a couple of steps to make sure it doesn't fall apart"
   ]
  },
  {
   "cell_type": "code",
   "execution_count": 76,
   "metadata": {},
   "outputs": [
    {
     "data": {
      "application/vnd.jupyter.widget-view+json": {
       "model_id": "6f3336045e2046ffbe99a06d0e502395",
       "version_major": 2,
       "version_minor": 0
      },
      "text/plain": [
       "IntProgress(value=0, max=999)"
      ]
     },
     "metadata": {},
     "output_type": "display_data"
    },
    {
     "name": "stdout",
     "output_type": "stream",
     "text": [
      "Simulation ran in 6.735762468333333 minutes.\n"
     ]
    }
   ],
   "source": [
    "dt = dx**2/16\n",
    "\n",
    "num_steps = 1000\n",
    "num_peaks = 2\n",
    "peak_pos = np.zeros((num_peaks, num_steps))\n",
    "peak_val = np.zeros((num_peaks, num_steps))\n",
    "t = np.zeros(num_steps)\n",
    "\n",
    "eta_old = eta_hydro\n",
    "mu_old = mu_hydro\n",
    "nu_old = nu_hydro\n",
    "\n",
    "kernel = -np.ones((5, 5))\n",
    "kernel[2, 2] = 24\n",
    "\n",
    "lambda_max_ar = np.zeros(eta_old.shape + (num_steps,))\n",
    "psi = np.zeros(eta_old.shape)\n",
    "\n",
    "# Create loading bar\n",
    "progress = widgets.IntProgress(min=0, max=num_steps - 1)\n",
    "display(progress)\n",
    "\n",
    "start_time = time.perf_counter()\n",
    "for i in range(num_steps):\n",
    "    \n",
    "    source_term = ( lch.beta*lch.f1(eta_old, mu_old, nu_old, dx) \n",
    "                    + (1/4)*lch.alpha*lch.f2(eta_old, mu_old, nu_old, dx) )\n",
    "    psi[1:-1, 1:-1], info, calls = bh_solver.solve(source_term[1:-1, 1:-1])\n",
    "    \n",
    "    eta_new = fd.forwardEuler(eta_old, dt, lch.etaFlowEOM, mu_old, nu_old, psi, dx)\n",
    "    mu_new = fd.forwardEuler(mu_old, dt, lch.muFlowEOM, eta_old, nu_old, psi, dx)\n",
    "    nu_new = fd.forwardEuler(nu_old, dt, lch.nuEOM, eta_old, mu_old, dx)\n",
    "    \n",
    "    eta_old = eta_new\n",
    "    mu_old = mu_new\n",
    "    nu_old = nu_new\n",
    "    \n",
    "    lambda_max = lch.calcQEigenvals(eta_old, mu_old, nu_old)\n",
    "    lambda_max_ar[:, :, i] = lambda_max\n",
    "    \n",
    "#     peaks = lch.findMinima(lambda_max)\n",
    "#     if len(peaks[0]) <= num_peaks:\n",
    "#         peak_pos[:, i] = X[peaks]\n",
    "#         peak_val[:, i] = lambda_max[peaks]\n",
    "#     else:\n",
    "#         break\n",
    "        \n",
    "    t[i] = i*dt\n",
    "    \n",
    "    # Update loading bar\n",
    "    progress.value = i\n",
    "    \n",
    "#     plt.matshow(lambda_max, vmin=-1, vmax=1)\n",
    "#     plt.colorbar()\n",
    "    \n",
    "# truncate arrays if loop stops early\n",
    "t = t[:i]\n",
    "peak_pos = peak_pos[:, :i]\n",
    "peak_val = peak_val[:, :i]\n",
    "    \n",
    "end_time = time.perf_counter()\n",
    "print(\"Simulation ran in\", (end_time - start_time)/60, \"minutes.\")"
   ]
  },
  {
   "cell_type": "markdown",
   "metadata": {},
   "source": [
    "### Make flow plot for the stream function"
   ]
  },
  {
   "cell_type": "code",
   "execution_count": 77,
   "metadata": {},
   "outputs": [
    {
     "data": {
      "text/plain": [
       "Text(0, 0.5, '$y/\\\\xi$')"
      ]
     },
     "execution_count": 77,
     "metadata": {},
     "output_type": "execute_result"
    }
   ],
   "source": [
    "vx, vy = fd.curl(psi, dx)\n",
    "v = np.sqrt(vx**2 + vy**2)\n",
    "\n",
    "mask = np.where(v != 0)\n",
    "vx_norm = np.zeros(vx.shape)\n",
    "vy_norm = np.zeros(vy.shape)\n",
    "vx_norm[mask] = vx[mask]/v[mask]\n",
    "vy_norm[mask] = vy[mask]/v[mask]\n",
    "\n",
    "sparse_idx = lch.sparseIdx(vx.shape, (30, 30))\n",
    "\n",
    "fig, ax = plt.subplots()\n",
    "c = ax.pcolor(X, Y, v)\n",
    "fig.colorbar(c, ax=ax)\n",
    "q = ax.quiver(X[sparse_idx], Y[sparse_idx], \n",
    "              vx_norm[sparse_idx], vy_norm[sparse_idx], pivot='tail', color='w')\n",
    "ax.plot(X[peaks], Y[peaks], marker='o', ls='', c='r', label='Defects')\n",
    "ax.legend()\n",
    "ax.set_title('Flow fields at introduction of hydrodynamics')\n",
    "ax.set_xlabel(r'$x/\\xi$')\n",
    "ax.set_ylabel(r'$y/\\xi$')"
   ]
  },
  {
   "cell_type": "code",
   "execution_count": 78,
   "metadata": {},
   "outputs": [
    {
     "data": {
      "text/plain": [
       "<matplotlib.colorbar.Colorbar at 0x1c5102ed388>"
      ]
     },
     "execution_count": 78,
     "metadata": {},
     "output_type": "execute_result"
    }
   ],
   "source": [
    "fig, ax = plt.subplots()\n",
    "im = ax.imshow(lambda_max_ar[:, :, -1], vmin=-1, vmax=1, origin='lower')\n",
    "im.set_data(lambda_max_ar[:, :, 0])\n",
    "# plt.plot(peaks[1], peaks[0], marker='o', ls='')\n",
    "fig.colorbar(im, ax=ax)"
   ]
  },
  {
   "cell_type": "code",
   "execution_count": 80,
   "metadata": {},
   "outputs": [
    {
     "data": {
      "text/plain": [
       "74.6185302734375"
      ]
     },
     "execution_count": 80,
     "metadata": {},
     "output_type": "execute_result"
    }
   ],
   "source": [
    "t[-1]"
   ]
  },
  {
   "cell_type": "markdown",
   "metadata": {},
   "source": [
    "### Make an animation of the eigenvalues getting out of control"
   ]
  },
  {
   "cell_type": "code",
   "execution_count": null,
   "metadata": {
    "scrolled": true
   },
   "outputs": [],
   "source": [
    "fig, ax = plt.subplots()\n",
    "im = ax.matshow(lambda_max_ar[:, :, 30], vmin=-1, vmax=1)\n",
    "fig.colorbar(mpl.cm.ScalarMappable())\n",
    "plt.title(r\"$\\lambda_\\mathrm{max}$\")\n",
    "plt.xlabel(r\"$x/\\xi$\")\n",
    "plt.ylabel(r\"$y/\\xi$\")\n",
    "\n",
    "def init():\n",
    "    im.set_data(lambda_max_ar[:, :, 30])\n",
    "    return im,\n",
    "\n",
    "def update(frame):\n",
    "    if frame <= num_steps - 1:\n",
    "        im.set_data(lambda_max_ar[:, :, frame])\n",
    "    return im,\n",
    "\n",
    "ani = FuncAnimation(fig, update, frames=np.arange(30, num_steps + 4),\n",
    "                    init_func=init, interval=500, blit=False)"
   ]
  },
  {
   "cell_type": "code",
   "execution_count": null,
   "metadata": {},
   "outputs": [],
   "source": [
    "ani.save(\"FlowCatastrophe.mp4\", dpi=200)"
   ]
  },
  {
   "cell_type": "code",
   "execution_count": null,
   "metadata": {},
   "outputs": [],
   "source": [
    "%matplotlib inline"
   ]
  },
  {
   "cell_type": "code",
   "execution_count": null,
   "metadata": {},
   "outputs": [],
   "source": [
    "plt.matshow(psi, vmin=-1, vmax=1, origin='lower')\n",
    "plt.colorbar()"
   ]
  },
  {
   "cell_type": "markdown",
   "metadata": {},
   "source": [
    "### Let's just try a convolution"
   ]
  },
  {
   "cell_type": "code",
   "execution_count": null,
   "metadata": {},
   "outputs": [],
   "source": [
    "from scipy.signal import convolve2d"
   ]
  },
  {
   "cell_type": "code",
   "execution_count": null,
   "metadata": {},
   "outputs": [],
   "source": [
    "help(convolve2d)"
   ]
  },
  {
   "cell_type": "code",
   "execution_count": null,
   "metadata": {},
   "outputs": [],
   "source": [
    "kernel1 = -np.ones((3, 3))\n",
    "kernel1[1, 1] = 8\n",
    "kernel2 = -np.ones((5, 5))\n",
    "kernel2[2, 2] = 24\n",
    "\n",
    "conv = convolve2d(lambda_max, kernel2, mode='valid')\n",
    "plt.matshow(conv)\n",
    "plt.colorbar()"
   ]
  },
  {
   "cell_type": "code",
   "execution_count": null,
   "metadata": {},
   "outputs": [],
   "source": [
    "plt.matshow(lambda_max)\n",
    "plt.colorbar()"
   ]
  },
  {
   "cell_type": "code",
   "execution_count": null,
   "metadata": {},
   "outputs": [],
   "source": [
    "import numpy as np\n",
    "import matplotlib.pyplot as plt\n",
    "from matplotlib.animation import FuncAnimation\n",
    "\n",
    "fig, ax = plt.subplots()\n",
    "xdata, ydata = [], []\n",
    "ln, = plt.plot([], [], 'ro')\n",
    "\n",
    "def init():\n",
    "    ax.set_xlim(0, 2*np.pi)\n",
    "    ax.set_ylim(-1, 1)\n",
    "    return ln,\n",
    "\n",
    "def update(frame):\n",
    "    xdata.append(frame)\n",
    "    ydata.append(np.sin(frame))\n",
    "    ln.set_data(xdata, ydata)\n",
    "    return ln,\n",
    "\n",
    "ani = FuncAnimation(fig, update, frames=np.linspace(0, 2*np.pi, 128),\n",
    "                    init_func=init, interval=500, blit=True)\n",
    "plt.show()"
   ]
  },
  {
   "cell_type": "code",
   "execution_count": null,
   "metadata": {},
   "outputs": [],
   "source": [
    "ani.save(\"Example.mp4\", dpi=200)"
   ]
  },
  {
   "cell_type": "code",
   "execution_count": null,
   "metadata": {},
   "outputs": [],
   "source": []
  }
 ],
 "metadata": {
  "kernelspec": {
   "display_name": "Python 3",
   "language": "python",
   "name": "python3"
  },
  "language_info": {
   "codemirror_mode": {
    "name": "ipython",
    "version": 3
   },
   "file_extension": ".py",
   "mimetype": "text/x-python",
   "name": "python",
   "nbconvert_exporter": "python",
   "pygments_lexer": "ipython3",
   "version": "3.7.7"
  }
 },
 "nbformat": 4,
 "nbformat_minor": 4
}
