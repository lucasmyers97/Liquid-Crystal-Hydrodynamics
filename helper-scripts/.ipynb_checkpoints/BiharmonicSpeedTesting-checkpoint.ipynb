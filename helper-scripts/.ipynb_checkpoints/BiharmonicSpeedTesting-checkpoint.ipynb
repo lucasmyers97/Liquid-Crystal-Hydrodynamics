{
 "cells": [
  {
   "cell_type": "code",
   "execution_count": 2,
   "metadata": {},
   "outputs": [],
   "source": [
    "import os\n",
    "import sys"
   ]
  },
  {
   "cell_type": "code",
   "execution_count": 3,
   "metadata": {},
   "outputs": [],
   "source": [
    "sys.path.insert(0, os.path.join(os.path.abspath('..'), 'src'))"
   ]
  },
  {
   "cell_type": "code",
   "execution_count": 7,
   "metadata": {},
   "outputs": [],
   "source": [
    "import numpy as np\n",
    "import matplotlib.pyplot as plt\n",
    "import matplotlib as mpl\n",
    "import time\n",
    "\n",
    "import biharm as bh\n",
    "import FiniteDifference as fd"
   ]
  },
  {
   "cell_type": "markdown",
   "metadata": {},
   "source": [
    "## Set up a test case to see how long biharm takes"
   ]
  },
  {
   "cell_type": "code",
   "execution_count": 10,
   "metadata": {},
   "outputs": [
    {
     "name": "stdout",
     "output_type": "stream",
     "text": [
      "Total time is 1.3435626000000411 seconds.\n",
      "Total number of calls is 88\n"
     ]
    }
   ],
   "source": [
    "origin = [0, 0]\n",
    "L = [3, 5]\n",
    "shape = [512, 512]\n",
    "alpha = 3\n",
    "maxiter = 500\n",
    "\n",
    "x = np.linspace(origin[0], origin[0] + L[0], num=(shape[0]-1))\n",
    "y = np.linspace(origin[1], origin[1] + L[1], num=(shape[1]-1))\n",
    "X, Y = np.meshgrid(x, y, indexing='ij')\n",
    "F = np.sin(X - Y)*np.cos(X + Y)\n",
    "\n",
    "biharm_solv = bh.Biharm(L, shape, alpha, cg_maxiter=maxiter)\n",
    "\n",
    "start_time = time.perf_counter()\n",
    "U, info, calls = biharm_solv.solve(F)\n",
    "end_time = time.perf_counter()\n",
    "\n",
    "U_bds = biharm_solv.applyBCs(U)\n",
    "\n",
    "dx = biharm_solv.hx\n",
    "dy = biharm_solv.hy\n",
    "result = ( fd.dx4(U_bds, dx) + fd.dy4(U_bds, dy) \n",
    "            + (2 + alpha)*fd.dx2(fd.dy2(U_bds, dy), dx)[1:-1, 1:-1] )\n",
    "residual = np.sum( np.abs( result - F ) )\n",
    "\n",
    "print(\"Total time is\", end_time - start_time, \"seconds.\")\n",
    "print(\"Total number of calls is\", calls)"
   ]
  },
  {
   "cell_type": "code",
   "execution_count": null,
   "metadata": {},
   "outputs": [],
   "source": []
  }
 ],
 "metadata": {
  "kernelspec": {
   "display_name": "Python 3",
   "language": "python",
   "name": "python3"
  },
  "language_info": {
   "codemirror_mode": {
    "name": "ipython",
    "version": 3
   },
   "file_extension": ".py",
   "mimetype": "text/x-python",
   "name": "python",
   "nbconvert_exporter": "python",
   "pygments_lexer": "ipython3",
   "version": "3.7.7"
  }
 },
 "nbformat": 4,
 "nbformat_minor": 4
}
