{
 "cells": [
  {
   "cell_type": "code",
   "execution_count": 1,
   "metadata": {},
   "outputs": [],
   "source": [
    "import sys, os\n",
    "sys.path.insert(0, os.path.abspath('..'))"
   ]
  },
  {
   "cell_type": "code",
   "execution_count": 2,
   "metadata": {},
   "outputs": [],
   "source": [
    "import sympy as sy\n",
    "import src.FiniteDifference as fd"
   ]
  },
  {
   "cell_type": "markdown",
   "metadata": {},
   "source": [
    "# $\\frac{\\partial f}{\\partial x}$"
   ]
  },
  {
   "cell_type": "code",
   "execution_count": 3,
   "metadata": {},
   "outputs": [
    {
     "data": {
      "text/latex": [
       "$\\displaystyle \\left[\\begin{matrix}0 & 0 & 0\\\\- \\frac{1}{2} & 0 & \\frac{1}{2}\\\\0 & 0 & 0\\end{matrix}\\right]$"
      ],
      "text/plain": [
       "Matrix([\n",
       "[   0, 0,   0],\n",
       "[-1/2, 0, 1/2],\n",
       "[   0, 0,   0]])"
      ]
     },
     "execution_count": 3,
     "metadata": {},
     "output_type": "execute_result"
    }
   ],
   "source": [
    "template = sy.Matrix([[0, 0, 0],\n",
    "                      [1, -1, 1],\n",
    "                      [0, 0, 0]])\n",
    "diff = (1, 0)\n",
    "order = 2\n",
    "stencil, _ = fd.genFDStencil(template, diff, order, boundary_diff=None)\n",
    "stencil"
   ]
  },
  {
   "cell_type": "markdown",
   "metadata": {},
   "source": [
    "# $\\frac{\\partial f}{\\partial y}$"
   ]
  },
  {
   "cell_type": "code",
   "execution_count": 4,
   "metadata": {},
   "outputs": [
    {
     "data": {
      "text/latex": [
       "$\\displaystyle \\left[\\begin{matrix}0 & \\frac{1}{2} & 0\\\\0 & 0 & 0\\\\0 & - \\frac{1}{2} & 0\\end{matrix}\\right]$"
      ],
      "text/plain": [
       "Matrix([\n",
       "[0,  1/2, 0],\n",
       "[0,    0, 0],\n",
       "[0, -1/2, 0]])"
      ]
     },
     "execution_count": 4,
     "metadata": {},
     "output_type": "execute_result"
    }
   ],
   "source": [
    "template = sy.Matrix([[0, 1, 0],\n",
    "                      [0, -1, 0],\n",
    "                      [0, 1, 0]])\n",
    "diff = (0, 1)\n",
    "order = 2\n",
    "stencil, _ = fd.genFDStencil(template, diff, order, boundary_diff=None)\n",
    "stencil"
   ]
  },
  {
   "cell_type": "markdown",
   "metadata": {},
   "source": [
    "------------------------------"
   ]
  },
  {
   "cell_type": "markdown",
   "metadata": {},
   "source": [
    "# $\\frac{\\partial^2 f}{\\partial x^2}$"
   ]
  },
  {
   "cell_type": "code",
   "execution_count": 5,
   "metadata": {},
   "outputs": [
    {
     "name": "stdout",
     "output_type": "stream",
     "text": [
      "⎡0  0   0⎤\n",
      "⎢        ⎥\n",
      "⎢1  -2  1⎥\n",
      "⎢        ⎥\n",
      "⎣0  0   0⎦\n",
      "0\n"
     ]
    }
   ],
   "source": [
    "template = sy.Matrix([[0, 0, 0],\n",
    "                      [1, -1, 1],\n",
    "                      [0, 0, 0]])\n",
    "diff = (2, 0)\n",
    "order = 2\n",
    "boundary_diff = (1, 0)\n",
    "stencil, boundary_val = fd.genFDStencil(template, diff, order, boundary_diff)\n",
    "sy.pprint(stencil)\n",
    "sy.pprint(boundary_val)"
   ]
  },
  {
   "cell_type": "code",
   "execution_count": 6,
   "metadata": {},
   "outputs": [
    {
     "name": "stdout",
     "output_type": "stream",
     "text": [
      "⎡ 0    0   0  ⎤\n",
      "⎢             ⎥\n",
      "⎢-7/2  4  -1/2⎥\n",
      "⎢             ⎥\n",
      "⎣ 0    0   0  ⎦\n",
      "-3\n"
     ]
    }
   ],
   "source": [
    "template = sy.Matrix([[0, 0, 0],\n",
    "                      [-1, 1, 1],\n",
    "                      [0, 0, 0]])\n",
    "diff = (2, 0)\n",
    "order = 2\n",
    "boundary_diff = (1, 0)\n",
    "stencil, boundary_val = fd.genFDStencil(template, diff, order, boundary_diff)\n",
    "sy.pprint(stencil)\n",
    "sy.pprint(boundary_val)"
   ]
  },
  {
   "cell_type": "code",
   "execution_count": 7,
   "metadata": {
    "scrolled": true
   },
   "outputs": [
    {
     "name": "stdout",
     "output_type": "stream",
     "text": [
      "⎡ 0    0   0  ⎤\n",
      "⎢             ⎥\n",
      "⎢-1/2  4  -7/2⎥\n",
      "⎢             ⎥\n",
      "⎣ 0    0   0  ⎦\n",
      "3\n"
     ]
    }
   ],
   "source": [
    "template = sy.Matrix([[0, 0, 0],\n",
    "                      [1, 1, -1],\n",
    "                      [0, 0, 0]])\n",
    "diff = (2, 0)\n",
    "order = 2\n",
    "boundary_diff = (1, 0)\n",
    "stencil, boundary_val = fd.genFDStencil(template, diff, order, boundary_diff)\n",
    "sy.pprint(stencil)\n",
    "sy.pprint(boundary_val)"
   ]
  },
  {
   "cell_type": "markdown",
   "metadata": {},
   "source": [
    "--------------"
   ]
  },
  {
   "cell_type": "markdown",
   "metadata": {},
   "source": [
    "# $\\frac{\\partial^2 f}{\\partial y^2}$"
   ]
  },
  {
   "cell_type": "code",
   "execution_count": 8,
   "metadata": {},
   "outputs": [
    {
     "name": "stdout",
     "output_type": "stream",
     "text": [
      "⎡0  1   0⎤\n",
      "⎢        ⎥\n",
      "⎢0  -2  0⎥\n",
      "⎢        ⎥\n",
      "⎣0  1   0⎦\n",
      "0\n"
     ]
    }
   ],
   "source": [
    "template = sy.Matrix([[0, 1, 0],\n",
    "                      [0, -1, 0],\n",
    "                      [0, 1, 0]])\n",
    "diff = (0, 2)\n",
    "order = 2\n",
    "boundary_diff = (0, 1)\n",
    "stencil, boundary_val = fd.genFDStencil(template, diff, order, boundary_diff)\n",
    "sy.pprint(stencil)\n",
    "sy.pprint(boundary_val)"
   ]
  },
  {
   "cell_type": "code",
   "execution_count": 9,
   "metadata": {},
   "outputs": [
    {
     "name": "stdout",
     "output_type": "stream",
     "text": [
      "⎡0  -7/2  0⎤\n",
      "⎢          ⎥\n",
      "⎢0   4    0⎥\n",
      "⎢          ⎥\n",
      "⎣0  -1/2  0⎦\n",
      "3\n"
     ]
    }
   ],
   "source": [
    "template = sy.Matrix([[0, -1, 0],\n",
    "                      [0, 1, 0],\n",
    "                      [0, 1, 0]])\n",
    "diff = (0, 2)\n",
    "order = 2\n",
    "boundary_diff = (0, 1)\n",
    "stencil, boundary_val = fd.genFDStencil(template, diff, order, boundary_diff)\n",
    "sy.pprint(stencil)\n",
    "sy.pprint(boundary_val)"
   ]
  },
  {
   "cell_type": "code",
   "execution_count": 10,
   "metadata": {},
   "outputs": [
    {
     "name": "stdout",
     "output_type": "stream",
     "text": [
      "⎡0  -1/2  0⎤\n",
      "⎢          ⎥\n",
      "⎢0   4    0⎥\n",
      "⎢          ⎥\n",
      "⎣0  -7/2  0⎦\n",
      "-3\n"
     ]
    }
   ],
   "source": [
    "template = sy.Matrix([[0, 1, 0],\n",
    "                      [0, 1, 0],\n",
    "                      [0, -1, 0]])\n",
    "diff = (0, 2)\n",
    "order = 2\n",
    "boundary_diff = (0, 1)\n",
    "stencil, boundary_val = fd.genFDStencil(template, diff, order, boundary_diff)\n",
    "sy.pprint(stencil)\n",
    "sy.pprint(boundary_val)"
   ]
  },
  {
   "cell_type": "markdown",
   "metadata": {},
   "source": [
    "-----"
   ]
  },
  {
   "cell_type": "markdown",
   "metadata": {},
   "source": [
    "# $\\frac{\\partial^4 f}{\\partial x^4}$"
   ]
  },
  {
   "cell_type": "code",
   "execution_count": 11,
   "metadata": {},
   "outputs": [
    {
     "name": "stdout",
     "output_type": "stream",
     "text": [
      "⎡0  0   0  0   0⎤\n",
      "⎢               ⎥\n",
      "⎢0  0   0  0   0⎥\n",
      "⎢               ⎥\n",
      "⎢1  -4  6  -4  1⎥\n",
      "⎢               ⎥\n",
      "⎢0  0   0  0   0⎥\n",
      "⎢               ⎥\n",
      "⎣0  0   0  0   0⎦\n",
      "0\n"
     ]
    }
   ],
   "source": [
    "template = sy.Matrix([[0, 0, 0, 0, 0],\n",
    "                      [0, 0, 0, 0, 0],\n",
    "                      [1, 1, -1, 1, 1],\n",
    "                      [0, 0, 0, 0, 0],\n",
    "                      [0, 0, 0, 0, 0]])\n",
    "diff = (4, 0)\n",
    "order = 2\n",
    "boundary_diff = (1, 0)\n",
    "stencil, boundary_val = fd.genFDStencil(template, diff, order, boundary_diff)\n",
    "sy.pprint(stencil)\n",
    "sy.pprint(boundary_val)"
   ]
  },
  {
   "cell_type": "code",
   "execution_count": 12,
   "metadata": {},
   "outputs": [
    {
     "name": "stdout",
     "output_type": "stream",
     "text": [
      "⎡0  0   0    0   0  0 ⎤\n",
      "⎢                     ⎥\n",
      "⎢0  0   0    0   0  0 ⎥\n",
      "⎢                     ⎥\n",
      "⎢2  -9  16  -14  6  -1⎥\n",
      "⎢                     ⎥\n",
      "⎢0  0   0    0   0  0 ⎥\n",
      "⎢                     ⎥\n",
      "⎣0  0   0    0   0  0 ⎦\n",
      "0\n"
     ]
    }
   ],
   "source": [
    "template = sy.Matrix([[0, 0, 0, 0, 0, 0],\n",
    "                      [0, 0, 0, 0, 0, 0],\n",
    "                      [1, -1, 1, 1, 1, 1],\n",
    "                      [0, 0, 0, 0, 0, 0],\n",
    "                      [0, 0, 0, 0, 0, 0]])\n",
    "diff = (4, 0)\n",
    "order = 2\n",
    "boundary_diff = None\n",
    "stencil, boundary_val = fd.genFDStencil(template, diff, order, boundary_diff)\n",
    "sy.pprint(stencil)\n",
    "sy.pprint(boundary_val)"
   ]
  },
  {
   "cell_type": "code",
   "execution_count": 13,
   "metadata": {},
   "outputs": [
    {
     "name": "stdout",
     "output_type": "stream",
     "text": [
      "[-119/6  36  -24  28/3  -3/2  0]\n",
      "-10\n"
     ]
    }
   ],
   "source": [
    "template = sy.Matrix([[-1, 1, 1, 1, 1, 0]])\n",
    "diff = (4, 0)\n",
    "order = 2\n",
    "boundary_diff = (1, 0)\n",
    "stencil, boundary_val = fd.genFDStencil(template, diff, order, boundary_diff)\n",
    "sy.pprint(stencil)\n",
    "sy.pprint(boundary_val)"
   ]
  },
  {
   "cell_type": "code",
   "execution_count": 14,
   "metadata": {},
   "outputs": [
    {
     "name": "stdout",
     "output_type": "stream",
     "text": [
      "⎡0   0   0   0   0   0⎤\n",
      "⎢                     ⎥\n",
      "⎢0   0   0   0   0   0⎥\n",
      "⎢                     ⎥\n",
      "⎢-1  6  -14  16  -9  2⎥\n",
      "⎢                     ⎥\n",
      "⎢0   0   0   0   0   0⎥\n",
      "⎢                     ⎥\n",
      "⎣0   0   0   0   0   0⎦\n",
      "0\n"
     ]
    }
   ],
   "source": [
    "template = sy.Matrix([[0, 0, 0, 0, 0, 0],\n",
    "                      [0, 0, 0, 0, 0, 0],\n",
    "                      [1, 1, 1, 1, -1, 1],\n",
    "                      [0, 0, 0, 0, 0, 0],\n",
    "                      [0, 0, 0, 0, 0, 0]])\n",
    "diff = (4, 0)\n",
    "order = 2\n",
    "boundary_diff = None\n",
    "stencil, boundary_val = fd.genFDStencil(template, diff, order, boundary_diff)\n",
    "sy.pprint(stencil)\n",
    "sy.pprint(boundary_val)"
   ]
  },
  {
   "cell_type": "code",
   "execution_count": 15,
   "metadata": {},
   "outputs": [
    {
     "name": "stdout",
     "output_type": "stream",
     "text": [
      "⎡ 0     0     0   0     0   ⎤\n",
      "⎢                           ⎥\n",
      "⎢ 0     0     0   0     0   ⎥\n",
      "⎢                           ⎥\n",
      "⎢-3/2  28/3  -24  36  -119/6⎥\n",
      "⎢                           ⎥\n",
      "⎢ 0     0     0   0     0   ⎥\n",
      "⎢                           ⎥\n",
      "⎣ 0     0     0   0     0   ⎦\n",
      "10\n"
     ]
    }
   ],
   "source": [
    "template = sy.Matrix([[0, 0, 0, 0, 0],\n",
    "                      [0, 0, 0, 0, 0],\n",
    "                      [1, 1, 1, 1, -1],\n",
    "                      [0, 0, 0, 0, 0],\n",
    "                      [0, 0, 0, 0, 0]])\n",
    "diff = (4, 0)\n",
    "order = 2\n",
    "boundary_diff = (1, 0)\n",
    "stencil, boundary_val = fd.genFDStencil(template, diff, order, boundary_diff)\n",
    "sy.pprint(stencil)\n",
    "sy.pprint(boundary_val)"
   ]
  },
  {
   "cell_type": "markdown",
   "metadata": {},
   "source": [
    "----------"
   ]
  },
  {
   "cell_type": "markdown",
   "metadata": {},
   "source": [
    "# $\\frac{\\partial^4 f}{\\partial y^4}$"
   ]
  },
  {
   "cell_type": "code",
   "execution_count": 16,
   "metadata": {},
   "outputs": [
    {
     "name": "stdout",
     "output_type": "stream",
     "text": [
      "⎡1 ⎤\n",
      "⎢  ⎥\n",
      "⎢-4⎥\n",
      "⎢  ⎥\n",
      "⎢6 ⎥\n",
      "⎢  ⎥\n",
      "⎢-4⎥\n",
      "⎢  ⎥\n",
      "⎣1 ⎦\n",
      "0\n"
     ]
    }
   ],
   "source": [
    "template = sy.Matrix([[1, 1, -1, 1, 1]]).transpose()\n",
    "diff = (0, 4)\n",
    "order = 2\n",
    "boundary_diff = (0, 1)\n",
    "stencil, boundary_val = fd.genFDStencil(template, diff, order, boundary_diff)\n",
    "sy.pprint(stencil)\n",
    "sy.pprint(boundary_val)"
   ]
  },
  {
   "cell_type": "code",
   "execution_count": 17,
   "metadata": {},
   "outputs": [
    {
     "name": "stdout",
     "output_type": "stream",
     "text": [
      "⎡ 2 ⎤\n",
      "⎢   ⎥\n",
      "⎢-9 ⎥\n",
      "⎢   ⎥\n",
      "⎢16 ⎥\n",
      "⎢   ⎥\n",
      "⎢-14⎥\n",
      "⎢   ⎥\n",
      "⎢ 6 ⎥\n",
      "⎢   ⎥\n",
      "⎣-1 ⎦\n",
      "0\n"
     ]
    }
   ],
   "source": [
    "template = sy.Matrix([[1, -1, 1, 1, 1, 1]]).transpose()\n",
    "diff = (0, 4)\n",
    "order = 2\n",
    "boundary_diff = None\n",
    "stencil, boundary_val = fd.genFDStencil(template, diff, order, boundary_diff)\n",
    "sy.pprint(stencil)\n",
    "sy.pprint(boundary_val)"
   ]
  },
  {
   "cell_type": "code",
   "execution_count": 18,
   "metadata": {},
   "outputs": [
    {
     "name": "stdout",
     "output_type": "stream",
     "text": [
      "⎡-119/6⎤\n",
      "⎢      ⎥\n",
      "⎢  36  ⎥\n",
      "⎢      ⎥\n",
      "⎢ -24  ⎥\n",
      "⎢      ⎥\n",
      "⎢ 28/3 ⎥\n",
      "⎢      ⎥\n",
      "⎣ -3/2 ⎦\n",
      "10\n"
     ]
    }
   ],
   "source": [
    "template = sy.Matrix([[-1, 1, 1, 1, 1]]).transpose()\n",
    "diff = (0, 4)\n",
    "order = 2\n",
    "boundary_diff = (0, 1)\n",
    "stencil, boundary_val = fd.genFDStencil(template, diff, order, boundary_diff)\n",
    "sy.pprint(stencil)\n",
    "sy.pprint(boundary_val)"
   ]
  },
  {
   "cell_type": "markdown",
   "metadata": {},
   "source": [
    "--------"
   ]
  },
  {
   "cell_type": "markdown",
   "metadata": {},
   "source": [
    "# $\\frac{\\partial^4 f}{\\partial x^2 \\partial y^2}$"
   ]
  },
  {
   "cell_type": "code",
   "execution_count": 19,
   "metadata": {},
   "outputs": [
    {
     "name": "stdout",
     "output_type": "stream",
     "text": [
      "⎡0  0   0   0   0⎤\n",
      "⎢                ⎥\n",
      "⎢0  1   -2  1   0⎥\n",
      "⎢                ⎥\n",
      "⎢0  -2  4   -2  0⎥\n",
      "⎢                ⎥\n",
      "⎢0  1   -2  1   0⎥\n",
      "⎢                ⎥\n",
      "⎣0  0   0   0   0⎦\n",
      "0\n"
     ]
    }
   ],
   "source": [
    "template = sy.Matrix([[0, 0, 1, 0, 0],\n",
    "                      [0, 1, 1, 1, 0],\n",
    "                      [1, 1, -1, 1, 1],\n",
    "                      [0, 1, 1, 1, 0],\n",
    "                      [0, 0, 1, 0, 0]])\n",
    "diff = (2, 2)\n",
    "order = 2\n",
    "boundary_diff = None\n",
    "stencil, boundary_val = fd.genFDStencil(template, diff, order, boundary_diff)\n",
    "sy.pprint(stencil)\n",
    "sy.pprint(boundary_val)"
   ]
  },
  {
   "cell_type": "code",
   "execution_count": null,
   "metadata": {},
   "outputs": [],
   "source": [
    "template = sy.Matrix([[0, 0, 0, 0, 0],\n",
    "                      [1, 1, 1, 1, 0],\n",
    "                      [-1, 1, 1, 1, 0],\n",
    "                      [1, 1, 1, 1, 0],\n",
    "                      [0, 0, 0, 0, 0]])\n",
    "diff = (2, 2)\n",
    "order = 2\n",
    "boundary_diff = (1, 0)\n",
    "stencil, boundary_val = fd.genFDStencil(template, diff, order, boundary_diff)\n",
    "sy.pprint(stencil)\n",
    "sy.pprint(boundary_val)"
   ]
  },
  {
   "cell_type": "code",
   "execution_count": null,
   "metadata": {},
   "outputs": [],
   "source": [
    "template = sy.Matrix([[0, 0, 0, 0, 0],\n",
    "                      [0, 1, 1, 1, 0],\n",
    "                      [0, 1, 1, 1, 0],\n",
    "                      [0, 1, 1, 1, 0],\n",
    "                      [0, 1, -1, 1, 0]])\n",
    "diff = (2, 2)\n",
    "order = 2\n",
    "boundary_diff = (1, 0)\n",
    "stencil, boundary_val = fd.genFDStencil(template, diff, order, boundary_diff)\n",
    "sy.pprint(stencil)\n",
    "sy.pprint(boundary_val)"
   ]
  },
  {
   "cell_type": "code",
   "execution_count": null,
   "metadata": {},
   "outputs": [],
   "source": [
    "template = sy.Matrix([[0, 0, 0, 0, 0],\n",
    "                      [1, 1, 1, 1, 0],\n",
    "                      [1, 1, 1, 1, 0],\n",
    "                      [1, 1, 1, 1, 0],\n",
    "                      [-1, 1, 1, 1, 0]])\n",
    "diff = (2, 2)\n",
    "order = 2\n",
    "boundary_diff = (1, 0)\n",
    "stencil, boundary_val = fd.genFDStencil(template, diff, order, boundary_diff)\n",
    "sy.pprint(stencil)\n",
    "sy.pprint(boundary_val)"
   ]
  },
  {
   "cell_type": "markdown",
   "metadata": {},
   "source": [
    "# $\\frac{\\partial^3 f}{\\partial x^3}$"
   ]
  },
  {
   "cell_type": "code",
   "execution_count": null,
   "metadata": {},
   "outputs": [],
   "source": [
    "template = sy.Matrix([[0, 0, 0, 0, 0],\n",
    "                      [0, 0, 0, 0, 0],\n",
    "                      [1, 1, -1, 1, 1],\n",
    "                      [0, 0, 0, 0, 0],\n",
    "                      [0, 0, 0, 0, 0]])\n",
    "diff = (3, 0)\n",
    "order = 2\n",
    "stencil, _ = fd.genFDStencil(template, diff, order)\n",
    "stencil"
   ]
  },
  {
   "cell_type": "code",
   "execution_count": null,
   "metadata": {},
   "outputs": [],
   "source": [
    "template = sy.Matrix([[0, 0, 0, 0, 0],\n",
    "                      [0, 0, 0, 0, 0],\n",
    "                      [1, -1, 1, 1, 1],\n",
    "                      [0, 0, 0, 0, 0],\n",
    "                      [0, 0, 0, 0, 0]])\n",
    "diff = (3, 0)\n",
    "order = 2\n",
    "stencil, boundary_val = fd.genFDStencil(template, diff, order)\n",
    "sy.pprint(stencil)\n",
    "sy.pprint(boundary_val)"
   ]
  },
  {
   "cell_type": "code",
   "execution_count": null,
   "metadata": {},
   "outputs": [],
   "source": [
    "template = sy.Matrix([[0, 0, 0, 0, 0],\n",
    "                      [0, 0, 0, 0, 0],\n",
    "                      [-1, 1, 1, 1, 0],\n",
    "                      [0, 0, 0, 0, 0],\n",
    "                      [0, 0, 0, 0, 0]])\n",
    "diff = (3, 0)\n",
    "order = 2\n",
    "boundary_diff = (1, 0)\n",
    "stencil, boundary_val = fd.genFDStencil(template, diff, order, boundary_diff)\n",
    "sy.pprint(stencil)\n",
    "sy.pprint(boundary_val)"
   ]
  },
  {
   "cell_type": "code",
   "execution_count": null,
   "metadata": {},
   "outputs": [],
   "source": [
    "template = sy.Matrix([[0, 0, 0, 0, 0],\n",
    "                      [0, 0, 0, 0, 0],\n",
    "                      [0, 1, 1, 1, -1],\n",
    "                      [0, 0, 0, 0, 0],\n",
    "                      [0, 0, 0, 0, 0]])\n",
    "diff = (3, 0)\n",
    "order = 2\n",
    "boundary_diff = (1, 0)\n",
    "stencil, boundary_val = fd.genFDStencil(template, diff, order, boundary_diff)\n",
    "sy.pprint(stencil)\n",
    "sy.pprint(boundary_val)"
   ]
  },
  {
   "cell_type": "markdown",
   "metadata": {},
   "source": [
    "# $\\frac{\\partial^3 f}{\\partial x^2 \\partial y}$"
   ]
  },
  {
   "cell_type": "code",
   "execution_count": null,
   "metadata": {},
   "outputs": [],
   "source": [
    "template = sy.Matrix([[0, 0, 0, 0, 0],\n",
    "                      [0, 1, 1, 1, 0],\n",
    "                      [0, 1, -1, 1, 0],\n",
    "                      [0, 1, 1, 1, 0],\n",
    "                      [0, 0, 0, 0, 0]])\n",
    "diff = (2, 1)\n",
    "order = 2\n",
    "stencil, boundary_val = fd.genFDStencil(template, diff, order)\n",
    "sy.pprint(stencil)\n",
    "sy.pprint(boundary_val)"
   ]
  },
  {
   "cell_type": "code",
   "execution_count": null,
   "metadata": {},
   "outputs": [],
   "source": [
    "template = sy.Matrix([[0, 0, 0, 0, 0],\n",
    "                      [0, 1, 1, 1, 1],\n",
    "                      [0, -1, 1, 1, 1],\n",
    "                      [0, 1, 1, 1, 1],\n",
    "                      [0, 0, 0, 0, 0]])\n",
    "diff = (2, 1)\n",
    "order = 2\n",
    "boundary_diff = (1, 0)\n",
    "stencil, boundary_val = fd.genFDStencil(template, diff, order)\n",
    "sy.pprint(stencil)\n",
    "sy.pprint(boundary_val)"
   ]
  },
  {
   "cell_type": "code",
   "execution_count": null,
   "metadata": {},
   "outputs": [],
   "source": [
    "template = sy.Matrix([[0, 1, 1, 1, 1],\n",
    "                      [0, 1, 1, 1, 1],\n",
    "                      [0, 1, 1, 1, 1],\n",
    "                      [0, -1, 0, 0, 0],\n",
    "                      [0, 0, 0, 0, 0]])\n",
    "diff = (2, 1)\n",
    "order = 2\n",
    "stencil, boundary_val = fd.genFDStencil(template, diff, order)\n",
    "sy.pprint(stencil)\n",
    "sy.pprint(boundary_val)"
   ]
  }
 ],
 "metadata": {
  "kernelspec": {
   "display_name": "Python 3",
   "language": "python",
   "name": "python3"
  },
  "language_info": {
   "codemirror_mode": {
    "name": "ipython",
    "version": 3
   },
   "file_extension": ".py",
   "mimetype": "text/x-python",
   "name": "python",
   "nbconvert_exporter": "python",
   "pygments_lexer": "ipython3",
   "version": "3.7.7"
  }
 },
 "nbformat": 4,
 "nbformat_minor": 4
}
