{
 "cells": [
  {
   "cell_type": "markdown",
   "metadata": {},
   "source": [
    "## Add path to source files"
   ]
  },
  {
   "cell_type": "code",
   "execution_count": 1,
   "metadata": {},
   "outputs": [],
   "source": [
    "import sys, os\n",
    "sys.path.insert(0, os.path.join(os.path.abspath('..'), 'src'))"
   ]
  },
  {
   "cell_type": "markdown",
   "metadata": {},
   "source": [
    "## Import necessary packages, add loading bars, make plots big"
   ]
  },
  {
   "cell_type": "code",
   "execution_count": 2,
   "metadata": {},
   "outputs": [],
   "source": [
    "import numpy as np\n",
    "import matplotlib as mpl\n",
    "import matplotlib.pyplot as plt\n",
    "from matplotlib.animation import FuncAnimation\n",
    "\n",
    "import FiniteDifference as fd\n",
    "import LiquidCrystalHelper as lch\n",
    "import biharm as bh\n",
    "\n",
    "import time\n",
    "from importlib import reload"
   ]
  },
  {
   "cell_type": "code",
   "execution_count": 3,
   "metadata": {},
   "outputs": [],
   "source": [
    "import ipywidgets as widgets\n",
    "from IPython.display import display\n",
    "from IPython.display import Video\n",
    "from IPython.display import Image"
   ]
  },
  {
   "cell_type": "code",
   "execution_count": 79,
   "metadata": {},
   "outputs": [
    {
     "data": {
      "text/plain": [
       "<module 'LiquidCrystalHelper' from 'C:\\\\Users\\\\lucas\\\\Documents\\\\Grad Work\\\\Summer Research 2020\\\\LiquidCrystalHydrodynamics\\\\src\\\\LiquidCrystalHelper.py'>"
      ]
     },
     "execution_count": 79,
     "metadata": {},
     "output_type": "execute_result"
    }
   ],
   "source": [
    "reload(lch)"
   ]
  },
  {
   "cell_type": "code",
   "execution_count": 9,
   "metadata": {},
   "outputs": [],
   "source": [
    "%matplotlib qt\n",
    "dpi = 300\n",
    "mpl.rcParams['figure.dpi'] = dpi"
   ]
  },
  {
   "cell_type": "markdown",
   "metadata": {},
   "source": [
    "## Begin with a $257\\times 257$ grid, with one $+1/2$ disclination and one $-1/2$ disclination\n",
    "* The reason for this odd choice of size is that the FFT works best on an array of size $N = 2^i - 1$ (and the same for the other dimension).\n",
    "* In this algorithm, the thing that is being Fourier Transformed is the interior points of our domain. This will be $255\\times 255$ since the endpoints in either dimension are cutoff.\n",
    "* Clearly this is $(2^i - 1)\\times(2^i - 1)$ for $i = 8$. "
   ]
  },
  {
   "cell_type": "markdown",
   "metadata": {},
   "source": [
    "### Set up domain"
   ]
  },
  {
   "cell_type": "code",
   "execution_count": 6,
   "metadata": {},
   "outputs": [],
   "source": [
    "l = 10\n",
    "n = 257\n",
    "\n",
    "x = np.linspace(-l, l, num=n)\n",
    "y = np.linspace(-l, l, num=n)\n",
    "X, Y = np.meshgrid(x, y, indexing='ij')"
   ]
  },
  {
   "cell_type": "markdown",
   "metadata": {},
   "source": [
    "### Create two disclinations, get auxiliary variables"
   ]
  },
  {
   "cell_type": "code",
   "execution_count": 7,
   "metadata": {},
   "outputs": [],
   "source": [
    "S_val = 0.5\n",
    "ctr = [[-2, 0], [2, 0]]\n",
    "r = [1, 1]\n",
    "m = [-1/2, 1/2]\n",
    "\n",
    "S, phi = lch.makeMultiDisclination(X, Y, S_val, ctr, r, m)\n",
    "Q = lch.uniaxialQ(S, phi)\n",
    "eta, mu, nu = lch.auxVars(Q)"
   ]
  },
  {
   "cell_type": "markdown",
   "metadata": {},
   "source": [
    "### Get initial eigenvectors/eigenvalues, plot"
   ]
  },
  {
   "cell_type": "code",
   "execution_count": 10,
   "metadata": {},
   "outputs": [
    {
     "data": {
      "text/plain": [
       "Text(0, 0.5, '$y/\\\\xi$')"
      ]
     },
     "execution_count": 10,
     "metadata": {},
     "output_type": "execute_result"
    }
   ],
   "source": [
    "sparse_shape = (10, 10)\n",
    "S_sparse_shape = (200, 200)\n",
    "S_cutoff = 0.3\n",
    "\n",
    "lambda_max = lch.calcQEigenvals(eta, mu, nu)\n",
    "U, V = lch.calcQEigenvecs(eta, mu, nu, lambda_max, S_cutoff)\n",
    "\n",
    "sparse_idx = lch.sparseIdx(Q[0, 0].shape, sparse_shape)\n",
    "S_sparse_idx = lch.sparseIdx(Q[0, 0].shape, S_sparse_shape)\n",
    "\n",
    "fig, ax = plt.subplots(figsize=(5, 3))\n",
    "c = ax.pcolor(X[S_sparse_idx], Y[S_sparse_idx], (3/2)*lambda_max[S_sparse_idx], vmin=0, vmax=1.5)\n",
    "q = ax.quiver(X[sparse_idx], Y[sparse_idx], U[sparse_idx], V[sparse_idx],\n",
    "              headwidth=0, pivot='middle', headaxislength=5, scale=30, width=0.002)\n",
    "\n",
    "ax.axis('equal')\n",
    "fig.colorbar(c, ax=ax)\n",
    "ax.set_title(\"+1/2 (left) and -1/2 (right) defects\")\n",
    "ax.set_xlabel(r\"$x/\\xi$\")\n",
    "ax.set_ylabel(r\"$y/\\xi$\")"
   ]
  },
  {
   "cell_type": "markdown",
   "metadata": {},
   "source": [
    "### First, see how long it takes the configuration to relax"
   ]
  },
  {
   "cell_type": "code",
   "execution_count": 174,
   "metadata": {},
   "outputs": [
    {
     "data": {
      "application/vnd.jupyter.widget-view+json": {
       "model_id": "431a434a598f427795b3a8740613c703",
       "version_major": 2,
       "version_minor": 0
      },
      "text/plain": [
       "IntProgress(value=0, max=999)"
      ]
     },
     "metadata": {},
     "output_type": "display_data"
    },
    {
     "name": "stdout",
     "output_type": "stream",
     "text": [
      "Simulation ran in 0.1733185783333435 minutes.\n"
     ]
    }
   ],
   "source": [
    "dx = X[1, 0] - X[0, 0]\n",
    "dy = Y[0, 1] - Y[0, 0]\n",
    "\n",
    "# This is just what they said it should be for stability\n",
    "dt = dx**2/100\n",
    "\n",
    "num_steps = 1000\n",
    "num_peaks = 2\n",
    "peak_pos = np.zeros((num_peaks, num_steps))\n",
    "peak_val = np.zeros((num_peaks, num_steps))\n",
    "t = np.zeros(num_steps)\n",
    "\n",
    "eta_old = eta\n",
    "mu_old = mu\n",
    "nu_old = nu\n",
    "\n",
    "# Create loading bar\n",
    "progress = widgets.IntProgress(min=0, max=num_steps - 1)\n",
    "display(progress)\n",
    "\n",
    "start_time = time.perf_counter()\n",
    "for i in range(num_steps):\n",
    "    \n",
    "    eta_new = fd.forwardEuler(eta_old, dt, lch.etaEOM, mu_old, nu_old, dx, dy)\n",
    "    mu_new = fd.forwardEuler(mu_old, dt, lch.muEOM, eta_old, nu_old, dx, dy)\n",
    "    nu_new = fd.forwardEuler(nu_old, dt, lch.nuEOM, eta_old, mu_old, dx, dy)\n",
    "    \n",
    "    eta_old = eta_new\n",
    "    mu_old = mu_new\n",
    "    nu_old = nu_new\n",
    "    \n",
    "    lambda_max = lch.calcQEigenvals(eta_old, mu_old, nu_old)\n",
    "    peaks = lch.findMinima(lambda_max)\n",
    "    if len(peaks[0]) <= 2:\n",
    "        peak_pos[:, i] = X[peaks]\n",
    "        peak_val[:, i] = lambda_max[peaks]\n",
    "    else:\n",
    "        break\n",
    "        \n",
    "    t[i] = i*dt\n",
    "    \n",
    "    # Update loading bar\n",
    "    progress.value = i\n",
    "    \n",
    "# truncate arrays if loop stops early\n",
    "t = t[:i]\n",
    "peak_pos = peak_pos[:, :i]\n",
    "peak_val = peak_val[:, :i]\n",
    "\n",
    "eta_hydro = eta_new\n",
    "mu_hydro = mu_new\n",
    "nu_hydro = nu_new\n",
    "    \n",
    "end_time = time.perf_counter()\n",
    "print(\"Simulation ran in\", (end_time - start_time)/60, \"minutes.\")"
   ]
  },
  {
   "cell_type": "code",
   "execution_count": 170,
   "metadata": {},
   "outputs": [
    {
     "data": {
      "text/plain": [
       "Text(0, 0.5, '$\\\\lambda_\\\\mathrm{max}$')"
      ]
     },
     "execution_count": 170,
     "metadata": {},
     "output_type": "execute_result"
    }
   ],
   "source": [
    "plt.plot(t, peak_val[0, :])\n",
    "plt.title(r'$\\lambda_\\mathrm{max}$ vs. $t$ for $dt = $' + str(round(dt, 5)))\n",
    "plt.xlabel(r'$t/\\tau$')\n",
    "plt.ylabel(r'$\\lambda_\\mathrm{max}$')"
   ]
  },
  {
   "cell_type": "markdown",
   "metadata": {},
   "source": [
    "### Set up biharmonic solver"
   ]
  },
  {
   "cell_type": "code",
   "execution_count": 171,
   "metadata": {},
   "outputs": [],
   "source": [
    "L = [2*l, 2*l]\n",
    "shape = [n - 1, n - 1]\n",
    "alpha = lch.alpha\n",
    "maxiter = 500\n",
    "\n",
    "bh_solver = bh.Biharm(L, shape, alpha, cg_maxiter=maxiter)"
   ]
  },
  {
   "cell_type": "markdown",
   "metadata": {},
   "source": [
    "### Now add in the hydrodynamic effects and run for a couple of steps to make sure it doesn't fall apart"
   ]
  },
  {
   "cell_type": "code",
   "execution_count": 216,
   "metadata": {},
   "outputs": [
    {
     "data": {
      "application/vnd.jupyter.widget-view+json": {
       "model_id": "9f67cf92813349b3b7f0888799ee246c",
       "version_major": 2,
       "version_minor": 0
      },
      "text/plain": [
       "IntProgress(value=0, max=50)"
      ]
     },
     "metadata": {},
     "output_type": "display_data"
    },
    {
     "name": "stdout",
     "output_type": "stream",
     "text": [
      "Simulation ran in 0.3471551449999879 minutes.\n"
     ]
    }
   ],
   "source": [
    "dt = dx**2/400\n",
    "\n",
    "num_steps = 51\n",
    "num_peaks = 2\n",
    "peak_pos = np.zeros((num_peaks, num_steps))\n",
    "peak_val = np.zeros((num_peaks, num_steps))\n",
    "t = np.zeros(num_steps)\n",
    "\n",
    "eta_old = eta_hydro\n",
    "mu_old = mu_hydro\n",
    "nu_old = nu_hydro\n",
    "\n",
    "kernel = -np.ones((5, 5))\n",
    "kernel[2, 2] = 24\n",
    "\n",
    "lambda_max_ar = np.zeros(eta_old.shape + (num_steps,))\n",
    "psi = np.zeros(eta_old.shape)\n",
    "\n",
    "# Create loading bar\n",
    "progress = widgets.IntProgress(min=0, max=num_steps - 1)\n",
    "display(progress)\n",
    "\n",
    "start_time = time.perf_counter()\n",
    "for i in range(num_steps):\n",
    "    \n",
    "    source_term = ( lch.beta*lch.f1(eta_old, mu_old, nu_old, dx) \n",
    "                    + (1/4)*lch.alpha*lch.f2(eta_old, mu_old, nu_old, dx) )\n",
    "    psi[1:-1, 1:-1], info, calls = bh_solver.solve(source_term[1:-1, 1:-1])\n",
    "    \n",
    "    eta_new = fd.forwardEuler(eta_old, dt, lch.etaFlowEOM, mu_old, nu_old, psi, dx)\n",
    "    mu_new = fd.forwardEuler(mu_old, dt, lch.muFlowEOM, eta_old, nu_old, psi, dx)\n",
    "    nu_new = fd.forwardEuler(nu_old, dt, lch.nuEOM, eta_old, mu_old, dx)\n",
    "    \n",
    "    eta_old = eta_new\n",
    "    mu_old = mu_new\n",
    "    nu_old = nu_new\n",
    "    \n",
    "    lambda_max = lch.calcQEigenvals(eta_old, mu_old, nu_old)\n",
    "    lambda_max_ar[:, :, i] = lambda_max\n",
    "    \n",
    "    peaks = lch.findMinima(filtered_lambda)\n",
    "    if len(peaks[0]) <= num_peaks:\n",
    "        peak_pos[:, i] = X[peaks]\n",
    "        peak_val[:, i] = lambda_max[peaks]\n",
    "    else:\n",
    "        break\n",
    "        \n",
    "    t[i] = i*dt\n",
    "    \n",
    "    # Update loading bar\n",
    "    progress.value = i\n",
    "    \n",
    "#     plt.matshow(lambda_max, vmin=-1, vmax=1)\n",
    "#     plt.colorbar()\n",
    "    \n",
    "# truncate arrays if loop stops early\n",
    "t = t[:i]\n",
    "peak_pos = peak_pos[:, :i]\n",
    "peak_val = peak_val[:, :i]\n",
    "    \n",
    "end_time = time.perf_counter()\n",
    "print(\"Simulation ran in\", (end_time - start_time)/60, \"minutes.\")"
   ]
  },
  {
   "cell_type": "code",
   "execution_count": 243,
   "metadata": {},
   "outputs": [
    {
     "data": {
      "text/plain": [
       "<matplotlib.colorbar.Colorbar at 0x1c90a136b08>"
      ]
     },
     "execution_count": 243,
     "metadata": {},
     "output_type": "execute_result"
    }
   ],
   "source": [
    "im = plt.imshow(lambda_max_ar[:, :, 49], vmin=-1, vmax=1, origin='lower')\n",
    "im.set_data(lambda_max_ar[:, :, 0])\n",
    "plt.plot(peaks[1], peaks[0], marker='o', ls='')\n",
    "plt.colorbar()"
   ]
  },
  {
   "cell_type": "markdown",
   "metadata": {},
   "source": [
    "### Make an animation of the eigenvalues getting out of control"
   ]
  },
  {
   "cell_type": "code",
   "execution_count": 281,
   "metadata": {
    "scrolled": true
   },
   "outputs": [
    {
     "data": {
      "image/png": "[encoded data removed]",
      "text/plain": [
       "<Figure size 432x288 with 2 Axes>"
      ]
     },
     "metadata": {
      "needs_background": "light"
     },
     "output_type": "display_data"
    }
   ],
   "source": [
    "fig, ax = plt.subplots()\n",
    "im = ax.matshow(lambda_max_ar[:, :, 30], vmin=-1, vmax=1)\n",
    "fig.colorbar(mpl.cm.ScalarMappable())\n",
    "plt.title(r\"$\\lambda_\\mathrm{max}$\")\n",
    "plt.xlabel(r\"$x/\\xi$\")\n",
    "plt.ylabel(r\"$y/\\xi$\")\n",
    "\n",
    "def init():\n",
    "    im.set_data(lambda_max_ar[:, :, 30])\n",
    "    return im,\n",
    "\n",
    "def update(frame):\n",
    "    if frame <= num_steps - 1:\n",
    "        im.set_data(lambda_max_ar[:, :, frame])\n",
    "    return im,\n",
    "\n",
    "ani = FuncAnimation(fig, update, frames=np.arange(30, num_steps + 4),\n",
    "                    init_func=init, interval=500, blit=False)"
   ]
  },
  {
   "cell_type": "code",
   "execution_count": 282,
   "metadata": {},
   "outputs": [],
   "source": [
    "ani.save(\"FlowCatastrophe.mp4\", dpi=200)"
   ]
  },
  {
   "cell_type": "code",
   "execution_count": 258,
   "metadata": {},
   "outputs": [],
   "source": [
    "%matplotlib inline"
   ]
  },
  {
   "cell_type": "code",
   "execution_count": 191,
   "metadata": {},
   "outputs": [
    {
     "data": {
      "text/plain": [
       "<matplotlib.colorbar.Colorbar at 0x1c90bde8908>"
      ]
     },
     "execution_count": 191,
     "metadata": {},
     "output_type": "execute_result"
    }
   ],
   "source": [
    "plt.matshow(psi, vmin=-1, vmax=1, origin='lower')\n",
    "plt.colorbar()"
   ]
  },
  {
   "cell_type": "markdown",
   "metadata": {},
   "source": [
    "### Let's just try a convolution"
   ]
  },
  {
   "cell_type": "code",
   "execution_count": 110,
   "metadata": {},
   "outputs": [],
   "source": [
    "from scipy.signal import convolve2d"
   ]
  },
  {
   "cell_type": "code",
   "execution_count": 18,
   "metadata": {},
   "outputs": [
    {
     "name": "stdout",
     "output_type": "stream",
     "text": [
      "Help on function convolve2d in module scipy.signal.signaltools:\n",
      "\n",
      "convolve2d(in1, in2, mode='full', boundary='fill', fillvalue=0)\n",
      "    Convolve two 2-dimensional arrays.\n",
      "    \n",
      "    Convolve `in1` and `in2` with output size determined by `mode`, and\n",
      "    boundary conditions determined by `boundary` and `fillvalue`.\n",
      "    \n",
      "    Parameters\n",
      "    ----------\n",
      "    in1 : array_like\n",
      "        First input.\n",
      "    in2 : array_like\n",
      "        Second input. Should have the same number of dimensions as `in1`.\n",
      "    mode : str {'full', 'valid', 'same'}, optional\n",
      "        A string indicating the size of the output:\n",
      "    \n",
      "        ``full``\n",
      "           The output is the full discrete linear convolution\n",
      "           of the inputs. (Default)\n",
      "        ``valid``\n",
      "           The output consists only of those elements that do not\n",
      "           rely on the zero-padding. In 'valid' mode, either `in1` or `in2`\n",
      "           must be at least as large as the other in every dimension.\n",
      "        ``same``\n",
      "           The output is the same size as `in1`, centered\n",
      "           with respect to the 'full' output.\n",
      "    boundary : str {'fill', 'wrap', 'symm'}, optional\n",
      "        A flag indicating how to handle boundaries:\n",
      "    \n",
      "        ``fill``\n",
      "           pad input arrays with fillvalue. (default)\n",
      "        ``wrap``\n",
      "           circular boundary conditions.\n",
      "        ``symm``\n",
      "           symmetrical boundary conditions.\n",
      "    \n",
      "    fillvalue : scalar, optional\n",
      "        Value to fill pad input arrays with. Default is 0.\n",
      "    \n",
      "    Returns\n",
      "    -------\n",
      "    out : ndarray\n",
      "        A 2-dimensional array containing a subset of the discrete linear\n",
      "        convolution of `in1` with `in2`.\n",
      "    \n",
      "    Examples\n",
      "    --------\n",
      "    Compute the gradient of an image by 2D convolution with a complex Scharr\n",
      "    operator.  (Horizontal operator is real, vertical is imaginary.)  Use\n",
      "    symmetric boundary condition to avoid creating edges at the image\n",
      "    boundaries.\n",
      "    \n",
      "    >>> from scipy import signal\n",
      "    >>> from scipy import misc\n",
      "    >>> ascent = misc.ascent()\n",
      "    >>> scharr = np.array([[ -3-3j, 0-10j,  +3 -3j],\n",
      "    ...                    [-10+0j, 0+ 0j, +10 +0j],\n",
      "    ...                    [ -3+3j, 0+10j,  +3 +3j]]) # Gx + j*Gy\n",
      "    >>> grad = signal.convolve2d(ascent, scharr, boundary='symm', mode='same')\n",
      "    \n",
      "    >>> import matplotlib.pyplot as plt\n",
      "    >>> fig, (ax_orig, ax_mag, ax_ang) = plt.subplots(3, 1, figsize=(6, 15))\n",
      "    >>> ax_orig.imshow(ascent, cmap='gray')\n",
      "    >>> ax_orig.set_title('Original')\n",
      "    >>> ax_orig.set_axis_off()\n",
      "    >>> ax_mag.imshow(np.absolute(grad), cmap='gray')\n",
      "    >>> ax_mag.set_title('Gradient magnitude')\n",
      "    >>> ax_mag.set_axis_off()\n",
      "    >>> ax_ang.imshow(np.angle(grad), cmap='hsv') # hsv is cyclic, like angles\n",
      "    >>> ax_ang.set_title('Gradient orientation')\n",
      "    >>> ax_ang.set_axis_off()\n",
      "    >>> fig.show()\n",
      "\n"
     ]
    }
   ],
   "source": [
    "help(convolve2d)"
   ]
  },
  {
   "cell_type": "code",
   "execution_count": 57,
   "metadata": {},
   "outputs": [
    {
     "data": {
      "text/plain": [
       "<matplotlib.colorbar.Colorbar at 0x1c95e802e88>"
      ]
     },
     "execution_count": 57,
     "metadata": {},
     "output_type": "execute_result"
    }
   ],
   "source": [
    "kernel1 = -np.ones((3, 3))\n",
    "kernel1[1, 1] = 8\n",
    "kernel2 = -np.ones((5, 5))\n",
    "kernel2[2, 2] = 24\n",
    "\n",
    "conv = convolve2d(lambda_max, kernel2, mode='valid')\n",
    "plt.matshow(conv)\n",
    "plt.colorbar()"
   ]
  },
  {
   "cell_type": "code",
   "execution_count": 61,
   "metadata": {},
   "outputs": [
    {
     "data": {
      "text/plain": [
       "<matplotlib.colorbar.Colorbar at 0x1c95e910bc8>"
      ]
     },
     "execution_count": 61,
     "metadata": {},
     "output_type": "execute_result"
    }
   ],
   "source": [
    "plt.matshow(lambda_max)\n",
    "plt.colorbar()"
   ]
  },
  {
   "cell_type": "code",
   "execution_count": 271,
   "metadata": {},
   "outputs": [
    {
     "data": {
      "image/png": "[encoded data removed]",
      "text/plain": [
       "<Figure size 432x288 with 1 Axes>"
      ]
     },
     "metadata": {
      "needs_background": "light"
     },
     "output_type": "display_data"
    }
   ],
   "source": [
    "import numpy as np\n",
    "import matplotlib.pyplot as plt\n",
    "from matplotlib.animation import FuncAnimation\n",
    "\n",
    "fig, ax = plt.subplots()\n",
    "xdata, ydata = [], []\n",
    "ln, = plt.plot([], [], 'ro')\n",
    "\n",
    "def init():\n",
    "    ax.set_xlim(0, 2*np.pi)\n",
    "    ax.set_ylim(-1, 1)\n",
    "    return ln,\n",
    "\n",
    "def update(frame):\n",
    "    xdata.append(frame)\n",
    "    ydata.append(np.sin(frame))\n",
    "    ln.set_data(xdata, ydata)\n",
    "    return ln,\n",
    "\n",
    "ani = FuncAnimation(fig, update, frames=np.linspace(0, 2*np.pi, 128),\n",
    "                    init_func=init, interval=500, blit=True)\n",
    "plt.show()"
   ]
  },
  {
   "cell_type": "code",
   "execution_count": 272,
   "metadata": {},
   "outputs": [],
   "source": [
    "ani.save(\"Example.mp4\", dpi=200)"
   ]
  },
  {
   "cell_type": "code",
   "execution_count": null,
   "metadata": {},
   "outputs": [],
   "source": []
  }
 ],
 "metadata": {
  "kernelspec": {
   "display_name": "Python 3",
   "language": "python",
   "name": "python3"
  },
  "language_info": {
   "codemirror_mode": {
    "name": "ipython",
    "version": 3
   },
   "file_extension": ".py",
   "mimetype": "text/x-python",
   "name": "python",
   "nbconvert_exporter": "python",
   "pygments_lexer": "ipython3",
   "version": "3.7.7"
  }
 },
 "nbformat": 4,
 "nbformat_minor": 4
}
