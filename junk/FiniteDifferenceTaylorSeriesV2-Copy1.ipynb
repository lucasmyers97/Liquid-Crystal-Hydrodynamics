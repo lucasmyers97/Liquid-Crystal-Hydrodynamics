{
 "cells": [
  {
   "cell_type": "markdown",
   "metadata": {},
   "source": [
    "### Second try to get this automatic finite difference generator"
   ]
  },
  {
   "cell_type": "code",
   "execution_count": 1,
   "metadata": {},
   "outputs": [],
   "source": [
    "from sympy import *"
   ]
  },
  {
   "cell_type": "markdown",
   "metadata": {},
   "source": [
    "### First set up a test system"
   ]
  },
  {
   "cell_type": "code",
   "execution_count": 2,
   "metadata": {},
   "outputs": [],
   "source": [
    "template = Matrix([[0, 0, 0],\n",
    "                   [-1, 1, 1],\n",
    "                   [0, 0, 0]])\n",
    "diff = (2, 0)\n",
    "order = 2\n",
    "boundary_diff = (1, 0)\n",
    "\n",
    "diff_degree = diff[0] + diff[1]\n",
    "m, n = template.shape\n",
    "k = diff_degree + order # total expansion degree\n",
    "x, y = symbols('x y')"
   ]
  },
  {
   "cell_type": "markdown",
   "metadata": {},
   "source": [
    "### Order gridpoints as a vector, make a list consisting of tuples $(i, j)$ where $i$ is the $x$ offset and $j$ is the $y$ offset"
   ]
  },
  {
   "cell_type": "code",
   "execution_count": 3,
   "metadata": {},
   "outputs": [],
   "source": [
    "if not m % 2 or not n % 2:\n",
    "    raise ValueError(\"Template dimensions must be odd\")         \n",
    "if m is not n:\n",
    "    raise ValueError(\"Template matrix must be square\")\n",
    "    \n",
    "# Find center of template, marked by -1\n",
    "center = None\n",
    "for i in range(m):\n",
    "    for j in range(n):\n",
    "        if template[i, j] == -1:\n",
    "            center = (i, j)\n",
    "if not center:\n",
    "    raise ValueError(\"Did not set center of template\")\n",
    "\n",
    "# Make list of gridpoints from center in the template\n",
    "# Note that it's in ij index convention\n",
    "gridpoints = []\n",
    "for i in range(m):\n",
    "    for j in range(n):\n",
    "        if template[i, j] == 1:\n",
    "            gridpoints.append((j - center[1], center[0] - i))"
   ]
  },
  {
   "cell_type": "markdown",
   "metadata": {},
   "source": [
    "### Generate monomials in graded lexicographical order, see which place in the Taylor series the desired partial is"
   ]
  },
  {
   "cell_type": "code",
   "execution_count": 4,
   "metadata": {},
   "outputs": [],
   "source": [
    "f = exp(x)*exp(y)\n",
    "q = expand( f.series(x, 0, k).removeO().series(y, 0, k).removeO() )\n",
    "q = sum(term for term in q.args \n",
    "        if degree(term, x) + degree(term, y) < k\n",
    "        and degree(term, x) + degree(term, y) > 0)\n",
    "q = poly(q, x, y)\n",
    "diff_place = q.monoms(order='grlex').index(diff)\n",
    "if boundary_diff:\n",
    "    excluded_place = q.monoms(order='grlex').index(boundary_diff)\n",
    "else:\n",
    "    excluded_place = None"
   ]
  },
  {
   "cell_type": "markdown",
   "metadata": {},
   "source": [
    "### Generate matrix corresponding to Taylor series system of equations"
   ]
  },
  {
   "cell_type": "code",
   "execution_count": 6,
   "metadata": {
    "scrolled": true
   },
   "outputs": [],
   "source": [
    "M = zeros(len(gridpoints), q.length())\n",
    "boundary_diff_vec = zeros(len(gridpoints), 1)\n",
    "gridpoint_idx = 0\n",
    "for (i, j) in gridpoints:\n",
    "    f = exp(i*x)*exp(j*y)\n",
    "    p = expand( f.series(x, 0, k).removeO().series(y, 0, k).removeO() )\n",
    "    p = sum(term for term in p.args \n",
    "            if degree(term, x) + degree(term, y) < k \n",
    "            and degree(term, x) + degree(term, y) > 0)\n",
    "    p = poly(p, x, y)\n",
    "\n",
    "    taylor_term_idx = 0\n",
    "    for deg in q.monoms(order='grlex'):\n",
    "        if taylor_term_idx == excluded_place:\n",
    "            M[gridpoint_idx, taylor_term_idx] = 0\n",
    "            boundary_diff_vec[gridpoint_idx] = -p.coeff_monomial(deg)\n",
    "        else:\n",
    "            M[gridpoint_idx, taylor_term_idx] = p.coeff_monomial(deg)\n",
    "        taylor_term_idx += 1\n",
    "    gridpoint_idx += 1"
   ]
  },
  {
   "cell_type": "code",
   "execution_count": 8,
   "metadata": {},
   "outputs": [],
   "source": [
    "M_inv = M.pinv()\n",
    "diff_vec = zeros(q.length(), 1)\n",
    "diff_vec[diff_place] = 1\n",
    "if M_inv*M*diff_vec == diff_vec:\n",
    "    stencil = template\n",
    "    gridpoint_idx = 0\n",
    "    centerpoint_val = 0\n",
    "    for i in range(m):\n",
    "        for j in range(n):\n",
    "            if template[i, j] == 1:\n",
    "                stencil[i, j] = M_inv[diff_place, gridpoint_idx]\n",
    "                centerpoint_val += M_inv[diff_place, gridpoint_idx]\n",
    "                gridpoint_idx += 1\n",
    "    stencil[center[0], center[1]] = -centerpoint_val\n",
    "else:\n",
    "    print(\"Could not make a stencil\")"
   ]
  },
  {
   "cell_type": "code",
   "execution_count": 9,
   "metadata": {},
   "outputs": [
    {
     "data": {
      "text/latex": [
       "$\\displaystyle \\left[\\begin{matrix}-6 & \\frac{3}{2}\\\\0 & 0\\\\0 & 0\\\\0 & 0\\\\4 & - \\frac{1}{2}\\\\0 & 0\\\\0 & 0\\\\0 & 0\\\\0 & 0\\end{matrix}\\right]$"
      ],
      "text/plain": [
       "Matrix([\n",
       "[-6,  3/2],\n",
       "[ 0,    0],\n",
       "[ 0,    0],\n",
       "[ 0,    0],\n",
       "[ 4, -1/2],\n",
       "[ 0,    0],\n",
       "[ 0,    0],\n",
       "[ 0,    0],\n",
       "[ 0,    0]])"
      ]
     },
     "execution_count": 9,
     "metadata": {},
     "output_type": "execute_result"
    }
   ],
   "source": [
    "M_inv"
   ]
  },
  {
   "cell_type": "code",
   "execution_count": 10,
   "metadata": {},
   "outputs": [
    {
     "data": {
      "text/latex": [
       "$\\displaystyle \\left[\\begin{matrix}0 & 0 & 0\\\\- \\frac{7}{2} & 4 & - \\frac{1}{2}\\\\0 & 0 & 0\\end{matrix}\\right]$"
      ],
      "text/plain": [
       "Matrix([\n",
       "[   0, 0,    0],\n",
       "[-7/2, 4, -1/2],\n",
       "[   0, 0,    0]])"
      ]
     },
     "execution_count": 10,
     "metadata": {},
     "output_type": "execute_result"
    }
   ],
   "source": [
    "stencil"
   ]
  },
  {
   "cell_type": "code",
   "execution_count": 13,
   "metadata": {},
   "outputs": [
    {
     "data": {
      "text/latex": [
       "$\\displaystyle -3$"
      ],
      "text/plain": [
       "-3"
      ]
     },
     "execution_count": 13,
     "metadata": {},
     "output_type": "execute_result"
    }
   ],
   "source": [
    "(M_inv*boundary_diff_vec)[diff_place]"
   ]
  },
  {
   "cell_type": "code",
   "execution_count": null,
   "metadata": {},
   "outputs": [],
   "source": []
  }
 ],
 "metadata": {
  "kernelspec": {
   "display_name": "Python 3",
   "language": "python",
   "name": "python3"
  },
  "language_info": {
   "codemirror_mode": {
    "name": "ipython",
    "version": 3
   },
   "file_extension": ".py",
   "mimetype": "text/x-python",
   "name": "python",
   "nbconvert_exporter": "python",
   "pygments_lexer": "ipython3",
   "version": "3.7.3"
  }
 },
 "nbformat": 4,
 "nbformat_minor": 4
}
