{
 "cells": [
  {
   "cell_type": "markdown",
   "metadata": {},
   "source": [
    "# Finite difference Taylor series\n",
    "------\n",
    "### The goal here is to write a program which will take in a stencil, mixed partial, and order, then tell you the coefficients you need in order to do a finite difference approximation up to the required order (or tell you that you cannot, given the specified stencil).\n",
    "\n",
    "**Steps:**\n",
    "1. From the template, create a list of tuples which represent the offsets: this will be the specified ordering of the result vector."
   ]
  },
  {
   "cell_type": "code",
   "execution_count": 1,
   "metadata": {},
   "outputs": [],
   "source": [
    "from sympy import *"
   ]
  },
  {
   "cell_type": "code",
   "execution_count": 2,
   "metadata": {},
   "outputs": [],
   "source": [
    "init_printing(order='grlex')"
   ]
  },
  {
   "cell_type": "code",
   "execution_count": 204,
   "metadata": {},
   "outputs": [],
   "source": [
    "template = Matrix([[1, 1, 0, 1, 1]])\n",
    "# template = Matrix([[1], [1], [0], [0], [0], [0], [1]])\n",
    "# template = Matrix([[0, 0, 0],\n",
    "#                    [0, 0, 0],\n",
    "#                    [0, 1, 0]])\n",
    "order = 2\n",
    "degree = 4\n",
    "\n",
    "m, n = template.shape\n",
    "k = degree + order"
   ]
  },
  {
   "cell_type": "code",
   "execution_count": 205,
   "metadata": {},
   "outputs": [],
   "source": [
    "offsets = []\n",
    "\n",
    "if not m % 2 or not n % 2:\n",
    "    raise ValueError(\"Template dimensions must be odd\")\n",
    "\n",
    "if m is 1:\n",
    "    middle = int((n - 1)/2)\n",
    "    max_offset = middle\n",
    "    for i in range(middle - max_offset, middle + max_offset + 1):\n",
    "        if template[0, i] == 1:\n",
    "            offsets.append((i - middle, 0))\n",
    "            \n",
    "elif n is 1:\n",
    "    middle = int((m - 1)/2)\n",
    "    max_offset = middle\n",
    "    for j in range(middle - max_offset, middle + max_offset + 1):\n",
    "        if template[j, 0] == 1:\n",
    "            offsets.append((0, middle - j))\n",
    "            \n",
    "else:\n",
    "    if m is not n:\n",
    "        raise ValueError(\"Template matrix must be square\")\n",
    "    middle = int((m - 1)/2)\n",
    "    max_offset = middle\n",
    "    for i in range(middle - max_offset, middle + max_offset + 1):\n",
    "        for j in range(middle - max_offset, middle + max_offset + 1):\n",
    "            if template[j, i] == 1:\n",
    "                offsets.append((i - middle, middle - j))"
   ]
  },
  {
   "cell_type": "code",
   "execution_count": 206,
   "metadata": {},
   "outputs": [
    {
     "data": {
      "image/png": "[encoded data removed]",
      "text/latex": [
       "$\\displaystyle \\left[ \\left( -2, \\  0\\right), \\  \\left( -1, \\  0\\right), \\  \\left( 1, \\  0\\right), \\  \\left( 2, \\  0\\right)\\right]$"
      ],
      "text/plain": [
       "[(-2, 0), (-1, 0), (1, 0), (2, 0)]"
      ]
     },
     "execution_count": 206,
     "metadata": {},
     "output_type": "execute_result"
    }
   ],
   "source": [
    "offsets = []\n",
    "\n",
    "if not m % 2 or not n % 2:\n",
    "    raise ValueError(\"Template dimensions must be odd\")\n",
    "\n",
    "if m is 1:\n",
    "    middle = int((n - 1)/2)\n",
    "    max_offset = middle\n",
    "    for i in range(middle - max_offset, middle + max_offset + 1):\n",
    "        if template[0, i] == 1:\n",
    "            offsets.append((i - middle, 0))\n",
    "            \n",
    "elif n is 1:\n",
    "    middle = int((m - 1)/2)\n",
    "    max_offset = middle\n",
    "    for j in range(middle - max_offset, middle + max_offset + 1):\n",
    "        if template[j, 0] == 1:\n",
    "            offsets.append((0, middle - j))\n",
    "            \n",
    "else:\n",
    "    if m is not n:\n",
    "        raise ValueError(\"Template matrix must be square\")\n",
    "    middle = int((m - 1)/2)\n",
    "    max_offset = middle\n",
    "    for i in range(middle - max_offset, middle + max_offset +offsets"
   ]
  },
  {
   "cell_type": "code",
   "execution_count": 197,
   "metadata": {},
   "outputs": [
    {
     "data": {
      "image/png": "[encoded data removed]",
      "text/latex": [
       "$\\displaystyle \\left[ \\left( 0, \\  3\\right), \\  \\left( 0, \\  2\\right), \\  \\left( 0, \\  -3\\right)\\right]$"
      ],
      "text/plain": [
       "[(0, 3), (0, 2), (0, -3)]"
      ]
     },
     "execution_count": 197,
     "metadata": {},
     "output_type": "execute_result"
    }
   ],
   "source": [
    "offsets"
   ]
  },
  {
   "cell_type": "code",
   "execution_count": 202,
   "metadata": {},
   "outputs": [
    {
     "data": {
      "image/png": "[encoded data removed]",
      "text/latex": [
       "$\\displaystyle \\left[ \\left( 0, \\  -1\\right)\\right]$"
      ],
      "text/plain": [
       "[(0, -1)]"
      ]
     },
     "execution_count": 202,
     "metadata": {},
     "output_type": "execute_result"
    }
   ],
   "source": [
    "offsets"
   ]
  },
  {
   "cell_type": "markdown",
   "metadata": {},
   "source": [
    "### Construct matrix from list of offsets"
   ]
  },
  {
   "cell_type": "code",
   "execution_count": 248,
   "metadata": {},
   "outputs": [],
   "source": [
    "x, y = symbols('x y')\n",
    "\n",
    "M = Matrix()\n",
    "\n",
    "for (i, j) in offsets:\n",
    "    f = exp(i*x)*exp(j*y)\n",
    "    p = expand( f.series(x, 0, k).removeO().series(y, 0, k).removeO() )\n",
    "    coeffs = poly(p).terms(order='grlex')\n",
    "    \n",
    "    new_row = Matrix()\n",
    "    for l in range(len(coeffs) - 1):\n",
    "        cur_coeff = coeffs[l][1]\n",
    "        new_row = new_row.row_join(Matrix([cur_coeff]))\n",
    "        \n",
    "    M = M.col_join(new_row)"
   ]
  },
  {
   "cell_type": "markdown",
   "metadata": {},
   "source": [
    "### Compute pseudo-inverse -- if $M^+ M$ times the vector we want to invert is unchanged, we can read off the solutions from the rows of the pseudo-inverse."
   ]
  },
  {
   "cell_type": "code",
   "execution_count": 274,
   "metadata": {},
   "outputs": [
    {
     "data": {
      "image/png": "[encoded data removed]",
      "text/latex": [
       "$\\displaystyle \\left[\\begin{matrix}0 & 0 & 0 & 0 & 0\\end{matrix}\\right]$"
      ],
      "text/plain": [
       "[0  0  0  0  0]"
      ]
     },
     "execution_count": 274,
     "metadata": {},
     "output_type": "execute_result"
    }
   ],
   "source": [
    "zeros(1, k - 1)"
   ]
  },
  {
   "cell_type": "code",
   "execution_count": 286,
   "metadata": {},
   "outputs": [],
   "source": [
    "d = zeros(k - 1, 1)\n",
    "d[1] = 1\n",
    "\n",
    "stencil = template\n",
    "if M.pinv()*M*d == d:\n",
    "    counter = 0\n",
    "    for (i, j) in offsets:\n",
    "        stencil[j, i + middle] = M.pinv()[1, counter]\n",
    "        counter = counter + 1\n",
    "        \n",
    "    s = 0\n",
    "    for i in range(k - 2):\n",
    "        s = s + M.pinv()[1, i]\n",
    "        \n",
    "    stencil[0, middle] = -s"
   ]
  },
  {
   "cell_type": "code",
   "execution_count": 287,
   "metadata": {},
   "outputs": [
    {
     "data": {
      "image/png": "[encoded data removed]",
      "text/latex": [
       "$\\displaystyle \\left[\\begin{matrix}1 & -4 & 6 & -4 & 1\\end{matrix}\\right]$"
      ],
      "text/plain": [
       "[1  -4  6  -4  1]"
      ]
     },
     "execution_count": 287,
     "metadata": {},
     "output_type": "execute_result"
    }
   ],
   "source": [
    "stencil"
   ]
  },
  {
   "cell_type": "code",
   "execution_count": 288,
   "metadata": {},
   "outputs": [
    {
     "data": {
      "image/png": "[encoded data removed]",
      "text/latex": [
       "$\\displaystyle 6$"
      ],
      "text/plain": [
       "6"
      ]
     },
     "execution_count": 288,
     "metadata": {},
     "output_type": "execute_result"
    }
   ],
   "source": [
    "k"
   ]
  },
  {
   "cell_type": "code",
   "execution_count": 249,
   "metadata": {},
   "outputs": [
    {
     "data": {
      "image/png": "[encoded data removed]",
      "text/latex": [
       "$\\displaystyle \\left[\\begin{matrix}- \\frac{4}{15} & \\frac{2}{3} & - \\frac{4}{3} & 2 & -2\\\\- \\frac{1}{120} & \\frac{1}{24} & - \\frac{1}{6} & \\frac{1}{2} & -1\\\\\\frac{1}{120} & \\frac{1}{24} & \\frac{1}{6} & \\frac{1}{2} & 1\\\\\\frac{4}{15} & \\frac{2}{3} & \\frac{4}{3} & 2 & 2\\end{matrix}\\right]$"
      ],
      "text/plain": [
       "⎡-4/15   2/3   -4/3   2   -2⎤\n",
       "⎢                           ⎥\n",
       "⎢-1/120  1/24  -1/6  1/2  -1⎥\n",
       "⎢                           ⎥\n",
       "⎢1/120   1/24  1/6   1/2  1 ⎥\n",
       "⎢                           ⎥\n",
       "⎣ 4/15   2/3   4/3    2   2 ⎦"
      ]
     },
     "execution_count": 249,
     "metadata": {},
     "output_type": "execute_result"
    }
   ],
   "source": [
    "M"
   ]
  },
  {
   "cell_type": "code",
   "execution_count": 263,
   "metadata": {},
   "outputs": [
    {
     "data": {
      "image/png": "[encoded data removed]",
      "text/latex": [
       "$\\displaystyle \\left[\\begin{matrix}- \\frac{460}{3829} & \\frac{140}{547} & - \\frac{140}{547} & \\frac{460}{3829}\\\\1 & -4 & -4 & 1\\\\- \\frac{3599}{7658} & \\frac{512}{547} & - \\frac{512}{547} & \\frac{3599}{7658}\\\\- \\frac{1}{12} & \\frac{4}{3} & \\frac{4}{3} & - \\frac{1}{12}\\\\\\frac{1215}{15316} & - \\frac{360}{547} & \\frac{360}{547} & - \\frac{1215}{15316}\\end{matrix}\\right]$"
      ],
      "text/plain": [
       "⎡-460     140   -140    460  ⎤\n",
       "⎢─────    ───   ─────   ──── ⎥\n",
       "⎢ 3829    547    547    3829 ⎥\n",
       "⎢                            ⎥\n",
       "⎢  1      -4     -4      1   ⎥\n",
       "⎢                            ⎥\n",
       "⎢-3599    512   -512    3599 ⎥\n",
       "⎢──────   ───   ─────   ──── ⎥\n",
       "⎢ 7658    547    547    7658 ⎥\n",
       "⎢                            ⎥\n",
       "⎢-1/12    4/3    4/3   -1/12 ⎥\n",
       "⎢                            ⎥\n",
       "⎢ 1215   -360    360   -1215 ⎥\n",
       "⎢─────   ─────   ───   ──────⎥\n",
       "⎣15316    547    547   15316 ⎦"
      ]
     },
     "execution_count": 263,
     "metadata": {},
     "output_type": "execute_result"
    }
   ],
   "source": [
    "M.pinv()"
   ]
  },
  {
   "cell_type": "code",
   "execution_count": 262,
   "metadata": {},
   "outputs": [
    {
     "data": {
      "image/png": "[encoded data removed]",
      "text/latex": [
       "$\\displaystyle \\left[\\begin{matrix}\\frac{229}{3829} & 0 & \\frac{900}{3829} & 0 & - \\frac{120}{3829}\\\\0 & 1 & 0 & 0 & 0\\\\\\frac{900}{3829} & 0 & \\frac{3604}{3829} & 0 & \\frac{30}{3829}\\\\0 & 0 & 0 & 1 & 0\\\\- \\frac{120}{3829} & 0 & \\frac{30}{3829} & 0 & \\frac{3825}{3829}\\end{matrix}\\right]$"
      ],
      "text/plain": [
       "⎡229       900      -120 ⎤\n",
       "⎢────   0  ────  0  ─────⎥\n",
       "⎢3829      3829      3829⎥\n",
       "⎢                        ⎥\n",
       "⎢  0    1   0    0    0  ⎥\n",
       "⎢                        ⎥\n",
       "⎢900       3604      30  ⎥\n",
       "⎢────   0  ────  0  ──── ⎥\n",
       "⎢3829      3829     3829 ⎥\n",
       "⎢                        ⎥\n",
       "⎢  0    0   0    1    0  ⎥\n",
       "⎢                        ⎥\n",
       "⎢-120       30      3825 ⎥\n",
       "⎢─────  0  ────  0  ──── ⎥\n",
       "⎣ 3829     3829     3829 ⎦"
      ]
     },
     "execution_count": 262,
     "metadata": {},
     "output_type": "execute_result"
    }
   ],
   "source": [
    "M.pinv()*M"
   ]
  },
  {
   "cell_type": "code",
   "execution_count": 250,
   "metadata": {},
   "outputs": [
    {
     "data": {
      "image/png": "[encoded data removed]",
      "text/latex": [
       "$\\displaystyle \\left[ \\left( -2, \\  0\\right), \\  \\left( -1, \\  0\\right), \\  \\left( 1, \\  0\\right), \\  \\left( 2, \\  0\\right)\\right]$"
      ],
      "text/plain": [
       "[(-2, 0), (-1, 0), (1, 0), (2, 0)]"
      ]
     },
     "execution_count": 250,
     "metadata": {},
     "output_type": "execute_result"
    }
   ],
   "source": [
    "offsets"
   ]
  },
  {
   "cell_type": "code",
   "execution_count": 117,
   "metadata": {},
   "outputs": [],
   "source": [
    "x, y = symbols('x y')\n",
    "\n",
    "M = Matrix([[]])\n",
    "\n",
    "if m is 1:\n",
    "    for i in range(1, n):\n",
    "        f = exp(i*x)\n",
    "        p = expand( f.series(x, 0, k).removeO() )\n",
    "        coeffs = poly(p).terms(order='grlex')\n",
    "        \n",
    "        new_row = Matrix()\n",
    "        for j in range(k - 1):\n",
    "            cur_coeff = coeffs[j][1]\n",
    "            new_row = new_row.col_insert(0, Matrix([[cur_coeff]]))\n",
    "            \n",
    "        M = M.row_insert(0, new_row)"
   ]
  },
  {
   "cell_type": "code",
   "execution_count": 118,
   "metadata": {},
   "outputs": [
    {
     "data": {
      "image/png": "[encoded data removed]",
      "text/latex": [
       "$\\displaystyle \\left[ \\left( \\left( 5\\right), \\  \\frac{128}{15}\\right), \\  \\left( \\left( 4\\right), \\  \\frac{32}{3}\\right), \\  \\left( \\left( 3\\right), \\  \\frac{32}{3}\\right), \\  \\left( \\left( 2\\right), \\  8\\right), \\  \\left( \\left( 1\\right), \\  4\\right), \\  \\left( \\left( 0\\right), \\  1\\right)\\right]$"
      ],
      "text/plain": [
       "⎡⎛      128⎞                                                             ⎤\n",
       "⎢⎜(5,), ───⎟, ((4,), 32/3), ((3,), 32/3), ((2,), 8), ((1,), 4), ((0,), 1)⎥\n",
       "⎣⎝       15⎠                                                             ⎦"
      ]
     },
     "execution_count": 118,
     "metadata": {},
     "output_type": "execute_result"
    }
   ],
   "source": [
    "coeffs"
   ]
  },
  {
   "cell_type": "code",
   "execution_count": 119,
   "metadata": {},
   "outputs": [
    {
     "data": {
      "image/png": "[encoded data removed]",
      "text/latex": [
       "$\\displaystyle \\left[\\begin{matrix}4 & 8 & \\frac{32}{3} & \\frac{32}{3} & \\frac{128}{15}\\end{matrix}\\right]$"
      ],
      "text/plain": [
       "⎡                  128⎤\n",
       "⎢4  8  32/3  32/3  ───⎥\n",
       "⎣                   15⎦"
      ]
     },
     "execution_count": 119,
     "metadata": {},
     "output_type": "execute_result"
    }
   ],
   "source": [
    "new_row"
   ]
  },
  {
   "cell_type": "code",
   "execution_count": 120,
   "metadata": {},
   "outputs": [
    {
     "data": {
      "image/png": "[encoded data removed]",
      "text/latex": [
       "$\\displaystyle \\left[\\begin{matrix}4 & 8 & \\frac{32}{3} & \\frac{32}{3} & \\frac{128}{15}\\\\3 & \\frac{9}{2} & \\frac{9}{2} & \\frac{27}{8} & \\frac{81}{40}\\\\2 & 2 & \\frac{4}{3} & \\frac{2}{3} & \\frac{4}{15}\\\\1 & \\frac{1}{2} & \\frac{1}{6} & \\frac{1}{24} & \\frac{1}{120}\\end{matrix}\\right]$"
      ],
      "text/plain": [
       "⎡                     128 ⎤\n",
       "⎢4   8   32/3  32/3   ─── ⎥\n",
       "⎢                      15 ⎥\n",
       "⎢                         ⎥\n",
       "⎢                     81  ⎥\n",
       "⎢3  9/2  9/2   27/8   ──  ⎥\n",
       "⎢                     40  ⎥\n",
       "⎢                         ⎥\n",
       "⎢2   2   4/3   2/3   4/15 ⎥\n",
       "⎢                         ⎥\n",
       "⎣1  1/2  1/6   1/24  1/120⎦"
      ]
     },
     "execution_count": 120,
     "metadata": {},
     "output_type": "execute_result"
    }
   ],
   "source": [
    "M"
   ]
  },
  {
   "cell_type": "code",
   "execution_count": 69,
   "metadata": {},
   "outputs": [],
   "source": [
    "x, y = symbols('x y')\n",
    "#f = exp(2*x)*exp(2*y)\n",
    "f = exp(x)"
   ]
  },
  {
   "cell_type": "code",
   "execution_count": 70,
   "metadata": {},
   "outputs": [],
   "source": [
    "expr = expand(f.series(x, 0, 4).removeO().series(y, 0, 4).removeO())"
   ]
  },
  {
   "cell_type": "code",
   "execution_count": 71,
   "metadata": {},
   "outputs": [
    {
     "name": "stdout",
     "output_type": "stream",
     "text": [
      "\\frac{x^{3}}{6} + \\frac{x^{2}}{2} + x + 1\n"
     ]
    }
   ],
   "source": [
    "print(latex(expr, order='grlex'))"
   ]
  },
  {
   "cell_type": "code",
   "execution_count": 73,
   "metadata": {},
   "outputs": [
    {
     "data": {
      "image/png": "[encoded data removed]",
      "text/latex": [
       "$\\displaystyle \\operatorname{Poly}{\\left( \\frac{1}{6} x^{3} + \\frac{1}{2} x^{2} + x + 1, x, domain=\\mathbb{Q} \\right)}$"
      ],
      "text/plain": [
       "Poly(1/6*x**3 + 1/2*x**2 + x + 1, x, domain='QQ')"
      ]
     },
     "execution_count": 73,
     "metadata": {},
     "output_type": "execute_result"
    }
   ],
   "source": [
    "poly(expr)"
   ]
  },
  {
   "cell_type": "code",
   "execution_count": 72,
   "metadata": {},
   "outputs": [
    {
     "data": {
      "image/png": "[encoded data removed]",
      "text/latex": [
       "$\\displaystyle \\left[ \\left( \\left( 3\\right), \\  \\frac{1}{6}\\right), \\  \\left( \\left( 2\\right), \\  \\frac{1}{2}\\right), \\  \\left( \\left( 1\\right), \\  1\\right), \\  \\left( \\left( 0\\right), \\  1\\right)\\right]$"
      ],
      "text/plain": [
       "[((3,), 1/6), ((2,), 1/2), ((1,), 1), ((0,), 1)]"
      ]
     },
     "execution_count": 72,
     "metadata": {},
     "output_type": "execute_result"
    }
   ],
   "source": [
    "poly(expr).terms(order='grlex')"
   ]
  },
  {
   "cell_type": "code",
   "execution_count": null,
   "metadata": {},
   "outputs": [],
   "source": []
  }
 ],
 "metadata": {
  "kernelspec": {
   "display_name": "Python 3",
   "language": "python",
   "name": "python3"
  },
  "language_info": {
   "codemirror_mode": {
    "name": "ipython",
    "version": 3
   },
   "file_extension": ".py",
   "mimetype": "text/x-python",
   "name": "python",
   "nbconvert_exporter": "python",
   "pygments_lexer": "ipython3",
   "version": "3.7.3"
  }
 },
 "nbformat": 4,
 "nbformat_minor": 4
}
